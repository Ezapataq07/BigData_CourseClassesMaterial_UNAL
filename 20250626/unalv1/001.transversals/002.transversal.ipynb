{
 "cells": [
  {
   "cell_type": "markdown",
   "metadata": {
    "application/vnd.databricks.v1+cell": {
     "cellMetadata": {},
     "inputWidgets": {},
     "nuid": "95b1ea95-c9d7-410d-93a9-826d897d4bb7",
     "showTitle": false,
     "tableResultSettingsMap": {},
     "title": ""
    }
   },
   "source": [
    "<p><img src=\"https://upload.wikimedia.org/wikipedia/commons/thumb/1/1e/UNAL_Logosimbolo.svg/583px-UNAL_Logosimbolo.svg.png\" alt=\"\" width=\"1280\" height=\"300\" /></p>"
   ]
  },
  {
   "cell_type": "markdown",
   "metadata": {
    "application/vnd.databricks.v1+cell": {
     "cellMetadata": {},
     "inputWidgets": {},
     "nuid": "b3fe480d-8138-46e8-8d2f-a6036ee3557d",
     "showTitle": false,
     "tableResultSettingsMap": {},
     "title": ""
    }
   },
   "source": [
    "# TRANSVERSAL"
   ]
  },
  {
   "cell_type": "markdown",
   "metadata": {
    "application/vnd.databricks.v1+cell": {
     "cellMetadata": {},
     "inputWidgets": {},
     "nuid": "fd798d3d-c1c0-4909-8f6d-9274366b311a",
     "showTitle": false,
     "tableResultSettingsMap": {},
     "title": ""
    }
   },
   "source": [
    "## PAHTS\n",
    "\n",
    "Spark always works with distributed file systems, not the default local file system. For this reason, the file path must include the schema indicating the storage type.\n",
    "\n",
    "Also, keep in mind that the default file format in Spark is Parquet, a columnar format optimized for performance."
   ]
  },
  {
   "cell_type": "markdown",
   "metadata": {
    "application/vnd.databricks.v1+cell": {
     "cellMetadata": {},
     "inputWidgets": {},
     "nuid": "b81e000c-465c-4c2f-b184-f825a2090caa",
     "showTitle": false,
     "tableResultSettingsMap": {},
     "title": ""
    }
   },
   "source": [
    "### HDFS\n",
    "\n",
    "Hadoop Distributed File System\n",
    "\n",
    "\n",
    "```bash\n",
    "hdfs://namenode:9000/user/data/file.parquet\n",
    "```"
   ]
  },
  {
   "cell_type": "markdown",
   "metadata": {
    "application/vnd.databricks.v1+cell": {
     "cellMetadata": {},
     "inputWidgets": {},
     "nuid": "f0c09bcd-4fc9-4db6-a853-c9f6e0288630",
     "showTitle": false,
     "tableResultSettingsMap": {},
     "title": ""
    }
   },
   "source": [
    "### DATABRICKS (DBFS)\n",
    "\n",
    "\n",
    "```bash\n",
    "dbfs:/mnt/datalake/file.parquet\n",
    "```\n"
   ]
  },
  {
   "cell_type": "markdown",
   "metadata": {
    "application/vnd.databricks.v1+cell": {
     "cellMetadata": {},
     "inputWidgets": {},
     "nuid": "7da41c70-6826-4bfe-a25d-e4324951a0f6",
     "showTitle": false,
     "tableResultSettingsMap": {},
     "title": ""
    }
   },
   "source": [
    "### LOCAL READ\n",
    "\n",
    "```bash\n",
    "file:///path/local/file.parquet\n",
    "```\n",
    "\n",
    "> 💡 **Note:** Using local paths (`file://`) is not recommended in production, as Spark is designed to process data in distributed environments."
   ]
  },
  {
   "cell_type": "markdown",
   "metadata": {
    "application/vnd.databricks.v1+cell": {
     "cellMetadata": {},
     "inputWidgets": {},
     "nuid": "0a5d0564-2d9c-46eb-9f0d-873c0826cc5d",
     "showTitle": false,
     "tableResultSettingsMap": {},
     "title": ""
    }
   },
   "source": [
    "## MAGIC COMMANDS\n",
    "\n",
    "In Databricks, magic commands are prefixed with % or %% and let you interact with different languages or Databricks features within a notebook cell."
   ]
  },
  {
   "cell_type": "markdown",
   "metadata": {
    "application/vnd.databricks.v1+cell": {
     "cellMetadata": {},
     "inputWidgets": {},
     "nuid": "f33d0d56-1f88-49b1-9444-8ae0c14dd549",
     "showTitle": false,
     "tableResultSettingsMap": {},
     "title": ""
    }
   },
   "source": [
    "### MARKDOWN\n",
    "\n",
    "`%md`  \n",
    "  Render Markdown content.\n",
    "![](https://i.postimg.cc/MTmpnW7x/dbo.png)"
   ]
  },
  {
   "cell_type": "markdown",
   "metadata": {
    "application/vnd.databricks.v1+cell": {
     "cellMetadata": {},
     "inputWidgets": {},
     "nuid": "5320149c-cdee-4def-a8a0-b541d0e99ecf",
     "showTitle": false,
     "tableResultSettingsMap": {},
     "title": ""
    }
   },
   "source": [
    "### PYTHON\n",
    "\n",
    "`%python`  \n",
    "  Run a cell using Python.  \n",
    "\n",
    "![](https://i.postimg.cc/MTmpnW7x/dbo.png)"
   ]
  },
  {
   "cell_type": "code",
   "execution_count": 0,
   "metadata": {
    "application/vnd.databricks.v1+cell": {
     "cellMetadata": {
      "byteLimit": 2048000,
      "rowLimit": 10000
     },
     "inputWidgets": {},
     "nuid": "02e79161-2183-4f75-99ee-80c172ac84e7",
     "showTitle": false,
     "tableResultSettingsMap": {},
     "title": ""
    }
   },
   "outputs": [],
   "source": [
    "%python\n",
    "print(\"hello, all!\")"
   ]
  },
  {
   "cell_type": "markdown",
   "metadata": {
    "application/vnd.databricks.v1+cell": {
     "cellMetadata": {},
     "inputWidgets": {},
     "nuid": "acd3d5d0-9550-47be-a151-f558983918c9",
     "showTitle": false,
     "tableResultSettingsMap": {},
     "title": ""
    }
   },
   "source": [
    "### SQL\n",
    "`%sql`  \n",
    "  Run SQL queries directly.\n",
    "![](https://i.postimg.cc/MTmpnW7x/dbo.png)"
   ]
  },
  {
   "cell_type": "code",
   "execution_count": 0,
   "metadata": {
    "application/vnd.databricks.v1+cell": {
     "cellMetadata": {
      "byteLimit": 2048000,
      "implicitDf": true,
      "rowLimit": 10000
     },
     "inputWidgets": {},
     "nuid": "f193329d-bbf9-439d-a864-a8edfabeca8e",
     "showTitle": false,
     "tableResultSettingsMap": {},
     "title": ""
    }
   },
   "outputs": [],
   "source": [
    "%sql\n",
    "SELECT current_date"
   ]
  },
  {
   "cell_type": "markdown",
   "metadata": {
    "application/vnd.databricks.v1+cell": {
     "cellMetadata": {},
     "inputWidgets": {},
     "nuid": "660825b7-ac41-4da2-bdc1-deea35855005",
     "showTitle": false,
     "tableResultSettingsMap": {},
     "title": ""
    }
   },
   "source": [
    "### SCALA\n",
    "`%scala`  \n",
    "  Run Scala code in a cell.\n",
    "![](https://i.postimg.cc/MTmpnW7x/dbo.png)"
   ]
  },
  {
   "cell_type": "code",
   "execution_count": 0,
   "metadata": {
    "application/vnd.databricks.v1+cell": {
     "cellMetadata": {
      "byteLimit": 2048000,
      "rowLimit": 10000
     },
     "inputWidgets": {},
     "nuid": "37e06e38-07b8-431a-997f-3d648af4ac57",
     "showTitle": false,
     "tableResultSettingsMap": {},
     "title": ""
    }
   },
   "outputs": [],
   "source": [
    "%scala\n",
    "val x = 10; \n",
    "println(x)"
   ]
  },
  {
   "cell_type": "markdown",
   "metadata": {
    "application/vnd.databricks.v1+cell": {
     "cellMetadata": {},
     "inputWidgets": {},
     "nuid": "092bb93f-8faa-4115-a792-54f186119eca",
     "showTitle": false,
     "tableResultSettingsMap": {},
     "title": ""
    }
   },
   "source": [
    "### R\n",
    "`%scala`  \n",
    "  Run R code in a cell.\n",
    "![](https://i.postimg.cc/MTmpnW7x/dbo.png)"
   ]
  },
  {
   "cell_type": "code",
   "execution_count": 0,
   "metadata": {
    "application/vnd.databricks.v1+cell": {
     "cellMetadata": {
      "byteLimit": 2048000,
      "rowLimit": 10000
     },
     "inputWidgets": {},
     "nuid": "5039b449-8285-4cc4-8b13-e106e7370fd6",
     "showTitle": false,
     "tableResultSettingsMap": {},
     "title": ""
    }
   },
   "outputs": [],
   "source": [
    "%r  \n",
    "summary(cars)"
   ]
  },
  {
   "cell_type": "markdown",
   "metadata": {
    "application/vnd.databricks.v1+cell": {
     "cellMetadata": {},
     "inputWidgets": {},
     "nuid": "9c290834-121e-491a-87dd-fd496d62480c",
     "showTitle": false,
     "tableResultSettingsMap": {},
     "title": ""
    }
   },
   "source": [
    "### BASH\n",
    "`%sh`  \n",
    "  Run shell/bash commands.\n",
    "![](https://i.postimg.cc/MTmpnW7x/dbo.png)"
   ]
  },
  {
   "cell_type": "code",
   "execution_count": 0,
   "metadata": {
    "application/vnd.databricks.v1+cell": {
     "cellMetadata": {
      "byteLimit": 2048000,
      "rowLimit": 10000
     },
     "inputWidgets": {},
     "nuid": "1f8e2014-a6c9-435f-a0bb-88481a44ce14",
     "showTitle": false,
     "tableResultSettingsMap": {},
     "title": ""
    }
   },
   "outputs": [],
   "source": [
    "%sh  \n",
    "ls -lrt"
   ]
  },
  {
   "cell_type": "markdown",
   "metadata": {
    "application/vnd.databricks.v1+cell": {
     "cellMetadata": {},
     "inputWidgets": {},
     "nuid": "819ca440-a9e0-4452-a95d-eea0d1a44fd5",
     "showTitle": false,
     "tableResultSettingsMap": {},
     "title": ""
    }
   },
   "source": [
    "### DBFS\n",
    "`%fs`  \n",
    " Interact with the Databricks File System (DBFS)."
   ]
  },
  {
   "cell_type": "code",
   "execution_count": 0,
   "metadata": {
    "application/vnd.databricks.v1+cell": {
     "cellMetadata": {
      "byteLimit": 2048000,
      "rowLimit": 10000
     },
     "inputWidgets": {},
     "nuid": "af49c013-0258-4960-8479-956c77699f4f",
     "showTitle": false,
     "tableResultSettingsMap": {},
     "title": ""
    }
   },
   "outputs": [],
   "source": [
    "%fs ls "
   ]
  },
  {
   "cell_type": "markdown",
   "metadata": {
    "application/vnd.databricks.v1+cell": {
     "cellMetadata": {},
     "inputWidgets": {},
     "nuid": "1ceac48d-95cd-401a-862e-3479e604d8c3",
     "showTitle": false,
     "tableResultSettingsMap": {},
     "title": ""
    }
   },
   "source": [
    "### MODULAR\n",
    " Include and run another notebook or file."
   ]
  },
  {
   "cell_type": "markdown",
   "metadata": {
    "application/vnd.databricks.v1+cell": {
     "cellMetadata": {},
     "inputWidgets": {},
     "nuid": "8eb68b13-2806-4282-a1a2-9d6e9e176270",
     "showTitle": false,
     "tableResultSettingsMap": {},
     "title": ""
    }
   },
   "source": [
    "#### RUN\n",
    "`%run`  \n",
    " Include and run another notebook.\n",
    "![](https://i.postimg.cc/MTmpnW7x/dbo.png)"
   ]
  },
  {
   "cell_type": "code",
   "execution_count": 0,
   "metadata": {
    "application/vnd.databricks.v1+cell": {
     "cellMetadata": {
      "byteLimit": 2048000,
      "rowLimit": 10000
     },
     "inputWidgets": {},
     "nuid": "53ff582c-b709-428e-96c8-5ca1216a9c14",
     "showTitle": false,
     "tableResultSettingsMap": {},
     "title": ""
    }
   },
   "outputs": [],
   "source": [
    "%run ./modularx/notebook"
   ]
  },
  {
   "cell_type": "code",
   "execution_count": 0,
   "metadata": {
    "application/vnd.databricks.v1+cell": {
     "cellMetadata": {
      "byteLimit": 2048000,
      "rowLimit": 10000
     },
     "inputWidgets": {},
     "nuid": "ee325b96-cdd2-4d81-889f-078abfc7ccee",
     "showTitle": false,
     "tableResultSettingsMap": {},
     "title": ""
    }
   },
   "outputs": [],
   "source": [
    "print(simple_header())"
   ]
  },
  {
   "cell_type": "code",
   "execution_count": 0,
   "metadata": {
    "application/vnd.databricks.v1+cell": {
     "cellMetadata": {
      "byteLimit": 2048000,
      "rowLimit": 10000
     },
     "inputWidgets": {},
     "nuid": "f38ec944-2ac0-41f5-8bae-347b6e7e4699",
     "showTitle": false,
     "tableResultSettingsMap": {},
     "title": ""
    }
   },
   "outputs": [],
   "source": [
    "print(YEAR)"
   ]
  },
  {
   "cell_type": "markdown",
   "metadata": {
    "application/vnd.databricks.v1+cell": {
     "cellMetadata": {},
     "inputWidgets": {},
     "nuid": "5fdd3d79-8539-46ac-aa2a-e769a10ac4aa",
     "showTitle": false,
     "tableResultSettingsMap": {},
     "title": ""
    }
   },
   "source": [
    "#### IMPORT"
   ]
  },
  {
   "cell_type": "code",
   "execution_count": 0,
   "metadata": {
    "application/vnd.databricks.v1+cell": {
     "cellMetadata": {
      "byteLimit": 2048000,
      "rowLimit": 10000
     },
     "inputWidgets": {},
     "nuid": "b6f58c3b-e384-4440-b586-c5aef86a26e7",
     "showTitle": false,
     "tableResultSettingsMap": {},
     "title": ""
    }
   },
   "outputs": [],
   "source": [
    "from modularx.utilities import set_config"
   ]
  },
  {
   "cell_type": "code",
   "execution_count": 0,
   "metadata": {
    "application/vnd.databricks.v1+cell": {
     "cellMetadata": {
      "byteLimit": 2048000,
      "rowLimit": 10000
     },
     "inputWidgets": {},
     "nuid": "73a133d1-5b86-4310-91af-8b99f8155da5",
     "showTitle": false,
     "tableResultSettingsMap": {},
     "title": ""
    }
   },
   "outputs": [],
   "source": [
    "output = set_config(\n",
    "  spark_master='spark://5.6.7.8:7077',\n",
    "  spark_executor_memory='4g',\n",
    "  spark_eventLog_enabled='true',\n",
    "  spark_serializer ='org.apache.spark.serializer.KryoSerializer',\n",
    ")\n",
    "\n",
    "print(output)"
   ]
  },
  {
   "cell_type": "markdown",
   "metadata": {
    "application/vnd.databricks.v1+cell": {
     "cellMetadata": {},
     "inputWidgets": {},
     "nuid": "bcb187f2-f2fb-492d-940b-ac0875c54fba",
     "showTitle": false,
     "tableResultSettingsMap": {},
     "title": ""
    }
   },
   "source": [
    "## NOTEBOKS\n",
    "\n",
    "Once you have a DataFrame (commonly named df), there are several essential methods you can use to inspect, manipulate, and analyze your data effectively. These methods help you understand the structure, contents, and performance implications of your DataFrame, especially when working in distributed environments like Spark."
   ]
  },
  {
   "cell_type": "markdown",
   "metadata": {
    "application/vnd.databricks.v1+cell": {
     "cellMetadata": {},
     "inputWidgets": {},
     "nuid": "e15fbfae-9694-4814-a281-94b5841d20d7",
     "showTitle": false,
     "tableResultSettingsMap": {},
     "title": ""
    }
   },
   "source": [
    "\n",
    "### df.collect()\t\n",
    "Returns all rows from the DataFrame as a list of Row objects. Use carefully — can cause memory issues with large data."
   ]
  },
  {
   "cell_type": "markdown",
   "metadata": {
    "application/vnd.databricks.v1+cell": {
     "cellMetadata": {},
     "inputWidgets": {},
     "nuid": "a4fdac38-95bf-4bc6-a30b-61238fc31e1d",
     "showTitle": false,
     "tableResultSettingsMap": {},
     "title": ""
    }
   },
   "source": [
    "### df.show()\t\n",
    "Prints a tabular view of the DataFrame in the console, with a limited number of rows (default 20)."
   ]
  },
  {
   "cell_type": "markdown",
   "metadata": {
    "application/vnd.databricks.v1+cell": {
     "cellMetadata": {},
     "inputWidgets": {},
     "nuid": "20894942-78e1-4384-aa82-19606039af8a",
     "showTitle": false,
     "tableResultSettingsMap": {},
     "title": ""
    }
   },
   "source": [
    "### df.printSchema()\n",
    "Prints the schema of the DataFrame in a tree format, showing each column name, data type, and whether it is nullable. Very useful for understanding the structure of your data."
   ]
  },
  {
   "cell_type": "markdown",
   "metadata": {
    "application/vnd.databricks.v1+cell": {
     "cellMetadata": {},
     "inputWidgets": {},
     "nuid": "3ad03210-5051-4704-bb8f-c92de1dede1b",
     "showTitle": false,
     "tableResultSettingsMap": {},
     "title": ""
    }
   },
   "source": [
    "### df.show()\n",
    "\n",
    "Prints the **top 10 rows** of a DataFrame in a **tabular format** on the console.\n",
    "\n",
    "```python\n",
    "df.show(n=20, truncate=True)\n",
    "```"
   ]
  },
  {
   "cell_type": "markdown",
   "metadata": {
    "application/vnd.databricks.v1+cell": {
     "cellMetadata": {},
     "inputWidgets": {},
     "nuid": "baea819e-26d4-4e11-99a0-dcccf25835fb",
     "showTitle": false,
     "tableResultSettingsMap": {},
     "title": ""
    }
   },
   "source": [
    "### df.explain()\n",
    "\n",
    "In Apache Spark, the method .explain() is used to display the execution plan for a DataFrame or SQL query. It helps developers understand how Spark will process their code, including details about:\n",
    "\n",
    "* Logical plans\n",
    "* Physical plans\n",
    "* Optimizations (e.g., predicate pushdown, broadcast joins)\n",
    "\n",
    "``` ´ython\n",
    "df.explain(True)             # Includes physical and logical plan\n",
    "df.explain(mode=\"extended\")  # Same as above\n",
    "```"
   ]
  },
  {
   "cell_type": "markdown",
   "metadata": {
    "application/vnd.databricks.v1+cell": {
     "cellMetadata": {},
     "inputWidgets": {},
     "nuid": "51e756d1-70dd-4351-b3c1-e3116d1d5d6e",
     "showTitle": false,
     "tableResultSettingsMap": {},
     "title": ""
    }
   },
   "source": [
    "### display(df)\n",
    "\n",
    "In environments like Databricks or Jupyter, it renders the DataFrame nicely as an interactive table.\n",
    "\n",
    "![](https://i.postimg.cc/MTmpnW7x/dbo.png)"
   ]
  },
  {
   "cell_type": "markdown",
   "metadata": {
    "application/vnd.databricks.v1+cell": {
     "cellMetadata": {},
     "inputWidgets": {},
     "nuid": "4b047ecc-48e5-4f00-bb8b-28b395176e64",
     "showTitle": false,
     "tableResultSettingsMap": {},
     "title": ""
    }
   },
   "source": [
    "### df.display()\n",
    "\n",
    "Same above.\n",
    "\n",
    "![](https://i.postimg.cc/MTmpnW7x/dbo.png)"
   ]
  },
  {
   "cell_type": "markdown",
   "metadata": {
    "application/vnd.databricks.v1+cell": {
     "cellMetadata": {},
     "inputWidgets": {},
     "nuid": "b18e2fa7-2eba-4f9c-bf57-1e8a953dca88",
     "showTitle": false,
     "tableResultSettingsMap": {},
     "title": ""
    }
   },
   "source": [
    "### displayHTML(html_code)\n",
    "Used to render HTML code inside Databricks notebooks — useful for showing custom tables, reports, or web content.\n",
    "\n",
    "![](https://i.postimg.cc/MTmpnW7x/dbo.png)"
   ]
  },
  {
   "cell_type": "code",
   "execution_count": 0,
   "metadata": {
    "application/vnd.databricks.v1+cell": {
     "cellMetadata": {
      "byteLimit": 2048000,
      "rowLimit": 10000
     },
     "inputWidgets": {},
     "nuid": "5676798e-09b6-4040-95f5-b2a7efbd1dda",
     "showTitle": false,
     "tableResultSettingsMap": {},
     "title": ""
    }
   },
   "outputs": [],
   "source": [
    "displayHTML(\n",
    "\"\"\"\n",
    "<div style=\"display: flex; align-items: center; background-color: #fff4e5; border: 1px solid #f47920; padding: 10px 14px; border-radius: 6px; font-family: Arial, sans-serif; color: #b34700; font-size: 15px; max-width: 600px;\">\n",
    "  <img src=\"https://images.icon-icons.com/2699/PNG/512/databricks_logo_icon_170295.png\" alt=\"Databricks\" style=\"width: 20px; height: 20px; margin-right: 10px;\">\n",
    "  <strong>Testing</strong>\n",
    "</div>\n",
    "\"\"\"\n",
    "\n",
    ")"
   ]
  },
  {
   "cell_type": "markdown",
   "metadata": {
    "application/vnd.databricks.v1+cell": {
     "cellMetadata": {},
     "inputWidgets": {},
     "nuid": "709e185b-df10-41cf-8fe2-863bcbd8db3d",
     "showTitle": false,
     "tableResultSettingsMap": {},
     "title": ""
    }
   },
   "source": [
    "### HELP(object.atribute)"
   ]
  },
  {
   "cell_type": "code",
   "execution_count": 0,
   "metadata": {
    "application/vnd.databricks.v1+cell": {
     "cellMetadata": {
      "byteLimit": 2048000,
      "rowLimit": 10000
     },
     "inputWidgets": {},
     "nuid": "b4e6637c-584a-462d-8f97-b31833f0f330",
     "showTitle": false,
     "tableResultSettingsMap": {},
     "title": ""
    }
   },
   "outputs": [],
   "source": [
    "from pyspark.sql import functions as fc\n",
    "\n",
    "help(fc.upper)"
   ]
  },
  {
   "cell_type": "markdown",
   "metadata": {
    "application/vnd.databricks.v1+cell": {
     "cellMetadata": {},
     "inputWidgets": {},
     "nuid": "71e8cddc-b347-466a-afbe-cc8ff3f16b58",
     "showTitle": false,
     "tableResultSettingsMap": {},
     "title": ""
    }
   },
   "source": [
    "## DBUTILS\n",
    "\n",
    "`dbutils` is a utility library provided to help you interact with the Databricks environment. It includes tools for working with files, secrets, notebooks, widgets, and more.\n",
    "\n",
    "![](https://i.postimg.cc/MTmpnW7x/dbo.png)\n"
   ]
  },
  {
   "cell_type": "code",
   "execution_count": 0,
   "metadata": {
    "application/vnd.databricks.v1+cell": {
     "cellMetadata": {
      "byteLimit": 2048000,
      "rowLimit": 10000
     },
     "inputWidgets": {},
     "nuid": "d30edd1a-4caf-441d-97b8-0cf6b251902e",
     "showTitle": false,
     "tableResultSettingsMap": {},
     "title": ""
    }
   },
   "outputs": [],
   "source": [
    "dbutils.help()"
   ]
  },
  {
   "cell_type": "code",
   "execution_count": 0,
   "metadata": {
    "application/vnd.databricks.v1+cell": {
     "cellMetadata": {
      "byteLimit": 2048000,
      "rowLimit": 10000
     },
     "inputWidgets": {},
     "nuid": "d024caec-8071-48bd-8711-7eb01b4cfe50",
     "showTitle": false,
     "tableResultSettingsMap": {},
     "title": ""
    }
   },
   "outputs": [],
   "source": [
    "dbutils.fs.help()"
   ]
  },
  {
   "cell_type": "code",
   "execution_count": 0,
   "metadata": {
    "application/vnd.databricks.v1+cell": {
     "cellMetadata": {
      "byteLimit": 2048000,
      "rowLimit": 10000
     },
     "inputWidgets": {},
     "nuid": "751742ba-76f0-42a1-b841-6e85c2dd6739",
     "showTitle": false,
     "tableResultSettingsMap": {},
     "title": ""
    }
   },
   "outputs": [],
   "source": [
    "dbutils.fs.ls('/')"
   ]
  },
  {
   "cell_type": "code",
   "execution_count": 0,
   "metadata": {
    "application/vnd.databricks.v1+cell": {
     "cellMetadata": {
      "byteLimit": 2048000,
      "rowLimit": 10000
     },
     "inputWidgets": {},
     "nuid": "815f51f5-99c9-4071-ac93-e03bcc979018",
     "showTitle": false,
     "tableResultSettingsMap": {},
     "title": ""
    }
   },
   "outputs": [],
   "source": [
    "display(dbutils.fs.ls('/'))"
   ]
  },
  {
   "cell_type": "code",
   "execution_count": 0,
   "metadata": {
    "application/vnd.databricks.v1+cell": {
     "cellMetadata": {
      "byteLimit": 2048000,
      "rowLimit": 10000
     },
     "inputWidgets": {},
     "nuid": "d5a1e0c9-e2f0-48c4-86e2-8704da339a88",
     "showTitle": false,
     "tableResultSettingsMap": {},
     "title": ""
    }
   },
   "outputs": [],
   "source": [
    "display(dbutils.fs.ls('/user'))"
   ]
  },
  {
   "cell_type": "markdown",
   "metadata": {
    "application/vnd.databricks.v1+cell": {
     "cellMetadata": {},
     "inputWidgets": {},
     "nuid": "a2a20bff-33e2-48ee-8014-e8060b2d7420",
     "showTitle": false,
     "tableResultSettingsMap": {},
     "title": ""
    }
   },
   "source": [
    "## SQL"
   ]
  },
  {
   "cell_type": "markdown",
   "metadata": {
    "application/vnd.databricks.v1+cell": {
     "cellMetadata": {},
     "inputWidgets": {},
     "nuid": "d8094540-b29f-488f-a117-5c34afa24b32",
     "showTitle": false,
     "tableResultSettingsMap": {},
     "title": ""
    }
   },
   "source": [
    "## CATALOGS\n",
    "\n",
    "In data platforms like Databricks, data is organized as:\n",
    "\n",
    "**catalog.schema.table**\n",
    "\n",
    "- **Catalog**: Top-level container that holds schemas and defines access control.\n",
    "- **Schema**: Logical grouping of tables and views (similar to a database).\n",
    "- **Table**: Structured data stored in rows and columns.\n",
    "\n",
    "**Example:**\n",
    "```sql\n",
    "SELECT * FROM main.sales.customers;\n",
    "```\n",
    "\n",
    "main = **catalog**\n",
    "sales = **schema**\n",
    "customers = **table**"
   ]
  },
  {
   "cell_type": "markdown",
   "metadata": {
    "application/vnd.databricks.v1+cell": {
     "cellMetadata": {},
     "inputWidgets": {},
     "nuid": "fa45a4e3-fae1-40eb-ba45-14065012f3d5",
     "showTitle": false,
     "tableResultSettingsMap": {},
     "title": ""
    }
   },
   "source": [
    "### input_file_name()\n",
    "\n",
    "The function `input_file_name()` in Databricks (and Apache Spark) returns the full path of the file from which each row of the DataFrame was read.\n",
    "\n",
    "```sql\n",
    "SELECT input_file_name() AS file_path, * FROM my_table;\n",
    "```"
   ]
  }
 ],
 "metadata": {
  "application/vnd.databricks.v1+notebook": {
   "computePreferences": null,
   "dashboards": [],
   "environmentMetadata": {
    "base_environment": "",
    "environment_version": "2"
   },
   "inputWidgetPreferences": null,
   "language": "python",
   "notebookMetadata": {
    "mostRecentlyExecutedCommandWithImplicitDF": {
     "commandId": 4984647723922553,
     "dataframes": [
      "_sqldf"
     ]
    },
    "pythonIndentUnit": 4
   },
   "notebookName": "002.transversal",
   "widgets": {}
  },
  "language_info": {
   "name": "python"
  }
 },
 "nbformat": 4,
 "nbformat_minor": 0
}
