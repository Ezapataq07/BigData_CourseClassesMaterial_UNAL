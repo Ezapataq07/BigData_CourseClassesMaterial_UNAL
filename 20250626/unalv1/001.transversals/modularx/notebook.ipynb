{
 "cells": [
  {
   "cell_type": "code",
   "execution_count": 0,
   "metadata": {
    "application/vnd.databricks.v1+cell": {
     "cellMetadata": {},
     "inputWidgets": {},
     "nuid": "1f139c54-d2c2-4eff-96eb-415c090ebeb5",
     "showTitle": false,
     "tableResultSettingsMap": {},
     "title": ""
    }
   },
   "outputs": [],
   "source": [
    "YEAR: int = 2025"
   ]
  },
  {
   "cell_type": "code",
   "execution_count": 0,
   "metadata": {
    "application/vnd.databricks.v1+cell": {
     "cellMetadata": {},
     "inputWidgets": {},
     "nuid": "c6f93591-89a0-4b76-9069-9522a93f826c",
     "showTitle": false,
     "tableResultSettingsMap": {},
     "title": ""
    }
   },
   "outputs": [],
   "source": [
    "def simple_header():\n",
    "  saludo = \"\"\"\n",
    "  _   _ _  _   _   _\n",
    " | | | | \\| | /_\\ | |\n",
    " | |_| | .` |/ _ \\| |__\n",
    "  \\___/|_|\\_/_/ \\_\\____|\n",
    "\n",
    "\n",
    "    materia: Analítica y Big Data\n",
    "  \"\"\"\n",
    "\n",
    "  return saludo"
   ]
  }
 ],
 "metadata": {
  "application/vnd.databricks.v1+notebook": {
   "computePreferences": null,
   "dashboards": [],
   "environmentMetadata": {
    "base_environment": "",
    "environment_version": "2"
   },
   "inputWidgetPreferences": null,
   "language": "python",
   "notebookMetadata": {
    "pythonIndentUnit": 4
   },
   "notebookName": "notebook",
   "widgets": {}
  },
  "language_info": {
   "name": "python"
  }
 },
 "nbformat": 4,
 "nbformat_minor": 0
}
