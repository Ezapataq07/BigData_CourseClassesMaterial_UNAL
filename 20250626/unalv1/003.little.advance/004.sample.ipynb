{
 "cells": [
  {
   "cell_type": "markdown",
   "metadata": {
    "application/vnd.databricks.v1+cell": {
     "cellMetadata": {},
     "inputWidgets": {},
     "nuid": "13e7c4a7-f403-4c3e-b3bc-f75a3bc66fc5",
     "showTitle": false,
     "tableResultSettingsMap": {},
     "title": ""
    }
   },
   "source": [
    "\n",
    "<p><img src=\"https://upload.wikimedia.org/wikipedia/commons/thumb/1/1e/UNAL_Logosimbolo.svg/583px-UNAL_Logosimbolo.svg.png\" alt=\"\" width=\"1280\" height=\"300\" /></p>"
   ]
  },
  {
   "cell_type": "markdown",
   "metadata": {
    "application/vnd.databricks.v1+cell": {
     "cellMetadata": {},
     "inputWidgets": {},
     "nuid": "728b601a-7073-4f70-9287-543eb0ff8cf2",
     "showTitle": false,
     "tableResultSettingsMap": {},
     "title": ""
    }
   },
   "source": [
    "# DF.sample\n",
    "\n",
    "The .sample() method is used to randomly select a fraction of rows from a DataFrame.\n",
    "\n",
    "\n",
    "\n",
    "**PARAMS:**\n",
    "\n",
    "- `withReplacement`:  If True, rows may be selected more than once (sampling with replacement). Default is False.\n",
    "- `fraction`:  A number between 0 and 1 representing the fraction of rows to return. Example: 0.1 = 10% of the data.\n",
    "- `seed`:  Optional seed for random generator to make results reproducible.\n",
    "\n"
   ]
  },
  {
   "cell_type": "code",
   "execution_count": 0,
   "metadata": {
    "application/vnd.databricks.v1+cell": {
     "cellMetadata": {
      "byteLimit": 2048000,
      "rowLimit": 10000
     },
     "inputWidgets": {},
     "nuid": "a542d2f7-b1e9-40c3-89d4-a6c23ad8b1e0",
     "showTitle": false,
     "tableResultSettingsMap": {},
     "title": ""
    }
   },
   "outputs": [],
   "source": [
    "elements = [\n",
    "    {\"id\": 1, \"name\": \"July\", \"age\": 34, \"salary\": 550, \"role\": \"admin\"},\n",
    "    {\"id\": 1, \"name\": \"July\", \"age\": 34, \"salary\": 550, \"role\": \"admin\"},\n",
    "    {\"id\": 2, \"name\": \"Gabriel\", \"age\": 29, \"salary\": 720, \"role\": \"developer\"},\n",
    "    {\"id\": 3, \"name\": \"Luis\", \"age\": 42, \"salary\": 610, \"role\": \"developer\"},\n",
    "    {\"id\": 4, \"name\": \"John\", \"age\": 51, \"salary\": 890, \"role\": \"manager\"},\n",
    "    {\"id\": 5, \"name\": \"Daniel\", \"age\": 27, \"salary\": 480, \"role\": \"developer\"},\n",
    "    {\"id\": 6, \"name\": \"Mary\", \"age\": 38, \"salary\": 700, \"role\": \"admin\"},\n",
    "    {\"id\": 7, \"name\": \"Monica\", \"age\": 33, \"salary\": 460, \"role\": \"tester\"},\n",
    "    {\"id\": 8, \"name\": \"Andrea\", \"age\": 45, \"salary\": 680, \"role\": \"admin\"},\n",
    "    {\"id\": 9, \"name\": \"Sebastian\", \"age\": 31, \"salary\": 530, \"role\": \"developer\"},\n",
    "    {\"id\": 10, \"name\": \"Johana\", \"age\": 26, \"salary\": 410, \"role\": \"tester\"},\n",
    "    {\"id\": 11, \"name\": None, \"age\": 26, \"salary\": None, \"role\": \"tester\"},\n",
    "    {\"id\": 12, \"name\": \"Juan\", \"age\": 45, \"salary\": 680, \"role\": None},\n",
    "]\n",
    "df = spark.createDataFrame(elements)"
   ]
  },
  {
   "cell_type": "code",
   "execution_count": 0,
   "metadata": {
    "application/vnd.databricks.v1+cell": {
     "cellMetadata": {
      "byteLimit": 2048000,
      "rowLimit": 10000
     },
     "inputWidgets": {},
     "nuid": "4b4f7121-5558-4808-b863-f4d5f545658e",
     "showTitle": false,
     "tableResultSettingsMap": {},
     "title": ""
    }
   },
   "outputs": [],
   "source": [
    "# Randomly sample 30% of the DataFrame without replacement\n",
    "df_sample = df.sample(fraction=0.3)\n",
    "df_sample.display()"
   ]
  }
 ],
 "metadata": {
  "application/vnd.databricks.v1+notebook": {
   "computePreferences": null,
   "dashboards": [],
   "environmentMetadata": {
    "base_environment": "",
    "environment_version": "2"
   },
   "inputWidgetPreferences": null,
   "language": "python",
   "notebookMetadata": {
    "pythonIndentUnit": 4
   },
   "notebookName": "004.sample",
   "widgets": {}
  },
  "language_info": {
   "name": "python"
  }
 },
 "nbformat": 4,
 "nbformat_minor": 0
}
