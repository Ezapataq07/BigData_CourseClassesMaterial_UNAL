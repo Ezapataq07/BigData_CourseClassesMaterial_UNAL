{
 "cells": [
  {
   "cell_type": "markdown",
   "metadata": {
    "application/vnd.databricks.v1+cell": {
     "cellMetadata": {},
     "inputWidgets": {},
     "nuid": "b329aa75-1abe-4167-a22e-263d9f0de6e8",
     "showTitle": false,
     "tableResultSettingsMap": {},
     "title": ""
    }
   },
   "source": [
    "<p><img src=\"https://upload.wikimedia.org/wikipedia/commons/thumb/1/1e/UNAL_Logosimbolo.svg/583px-UNAL_Logosimbolo.svg.png\" alt=\"\" width=\"1280\" height=\"300\" /></p>"
   ]
  },
  {
   "cell_type": "markdown",
   "metadata": {
    "application/vnd.databricks.v1+cell": {
     "cellMetadata": {},
     "inputWidgets": {},
     "nuid": "dfac3c69-a367-4de3-8aae-e988ebd5df24",
     "showTitle": false,
     "tableResultSettingsMap": {},
     "title": ""
    }
   },
   "source": [
    "# AGGREGATIONS"
   ]
  },
  {
   "cell_type": "code",
   "execution_count": 0,
   "metadata": {
    "application/vnd.databricks.v1+cell": {
     "cellMetadata": {
      "byteLimit": 2048000,
      "rowLimit": 10000
     },
     "inputWidgets": {},
     "nuid": "b9dee278-2da6-415f-99fc-baf59291a59d",
     "showTitle": false,
     "tableResultSettingsMap": {},
     "title": ""
    }
   },
   "outputs": [],
   "source": [
    "from pyspark.sql import functions as fun"
   ]
  },
  {
   "cell_type": "code",
   "execution_count": 0,
   "metadata": {
    "application/vnd.databricks.v1+cell": {
     "cellMetadata": {
      "byteLimit": 2048000,
      "rowLimit": 10000
     },
     "inputWidgets": {},
     "nuid": "ba927dfb-1e72-4779-baa0-72dd9e78faf5",
     "showTitle": false,
     "tableResultSettingsMap": {},
     "title": ""
    }
   },
   "outputs": [],
   "source": [
    "elements = [\n",
    "    {\"id\": 1, \"name\": \"July\", \"age\": 34, \"salary\": 550, \"role\": \"admin\"},\n",
    "    {\"id\": 1, \"name\": \"July\", \"age\": 34, \"salary\": 550, \"role\": \"admin\"},\n",
    "    {\"id\": 2, \"name\": \"Gabriel\", \"age\": 29, \"salary\": 720, \"role\": \"developer\"},\n",
    "    {\"id\": 3, \"name\": \"Luis\", \"age\": 42, \"salary\": 610, \"role\": \"developer\"},\n",
    "    {\"id\": 4, \"name\": \"John\", \"age\": 51, \"salary\": 890, \"role\": \"manager\"},\n",
    "    {\"id\": 5, \"name\": \"Daniel\", \"age\": 27, \"salary\": 480, \"role\": \"developer\"},\n",
    "    {\"id\": 6, \"name\": \"Mary\", \"age\": 38, \"salary\": 700, \"role\": \"admin\"},\n",
    "    {\"id\": 7, \"name\": \"Monica\", \"age\": 33, \"salary\": 460, \"role\": \"tester\"},\n",
    "    {\"id\": 8, \"name\": \"Andrea\", \"age\": 45, \"salary\": 680, \"role\": \"admin\"},\n",
    "    {\"id\": 9, \"name\": \"Sebastian\", \"age\": 31, \"salary\": 530, \"role\": \"developer\"},\n",
    "    {\"id\": 10, \"name\": \"Johana\", \"age\": 26, \"salary\": 410, \"role\": \"tester\"},\n",
    "    {\"id\": 11, \"name\": None, \"age\": 26, \"salary\": None, \"role\": \"tester\"},\n",
    "    {\"id\": 12, \"name\": \"Juan\", \"age\": 45, \"salary\": 680, \"role\": None},\n",
    "]\n",
    "df = spark.createDataFrame(elements)\n",
    "display(df)\n"
   ]
  },
  {
   "cell_type": "markdown",
   "metadata": {
    "application/vnd.databricks.v1+cell": {
     "cellMetadata": {
      "byteLimit": 2048000,
      "rowLimit": 10000
     },
     "inputWidgets": {},
     "nuid": "da08c8b6-21c5-4b70-a6ba-a6a9b69f617b",
     "showTitle": false,
     "tableResultSettingsMap": {},
     "title": ""
    }
   },
   "source": [
    "## GROUP BY"
   ]
  },
  {
   "cell_type": "markdown",
   "metadata": {
    "application/vnd.databricks.v1+cell": {
     "cellMetadata": {
      "byteLimit": 2048000,
      "rowLimit": 10000
     },
     "inputWidgets": {},
     "nuid": "6856891b-bc35-4d78-97cb-46a3b734ff3f",
     "showTitle": false,
     "tableResultSettingsMap": {},
     "title": ""
    }
   },
   "source": [
    "### SIMPLE COLUMN"
   ]
  },
  {
   "cell_type": "markdown",
   "metadata": {
    "application/vnd.databricks.v1+cell": {
     "cellMetadata": {
      "byteLimit": 2048000,
      "rowLimit": 10000
     },
     "inputWidgets": {},
     "nuid": "53f02b79-16da-407e-ac71-b56f9234cef5",
     "showTitle": false,
     "tableResultSettingsMap": {},
     "title": ""
    }
   },
   "source": [
    "#### WAY 1"
   ]
  },
  {
   "cell_type": "code",
   "execution_count": 0,
   "metadata": {
    "application/vnd.databricks.v1+cell": {
     "cellMetadata": {
      "byteLimit": 2048000,
      "rowLimit": 10000
     },
     "inputWidgets": {},
     "nuid": "0b4c21a5-7741-4d0d-a6e8-997e146949f2",
     "showTitle": false,
     "tableResultSettingsMap": {},
     "title": ""
    }
   },
   "outputs": [],
   "source": [
    "df.groupBy(\"role\").count().display()"
   ]
  },
  {
   "cell_type": "markdown",
   "metadata": {
    "application/vnd.databricks.v1+cell": {
     "cellMetadata": {
      "byteLimit": 2048000,
      "rowLimit": 10000
     },
     "inputWidgets": {},
     "nuid": "4de5506c-a5c8-4ed0-bf98-fd9bdfa00bee",
     "showTitle": false,
     "tableResultSettingsMap": {},
     "title": ""
    }
   },
   "source": [
    "#### WAY 2"
   ]
  },
  {
   "cell_type": "code",
   "execution_count": 0,
   "metadata": {
    "application/vnd.databricks.v1+cell": {
     "cellMetadata": {
      "byteLimit": 2048000,
      "rowLimit": 10000
     },
     "inputWidgets": {},
     "nuid": "548a619e-1c21-409d-bd8b-b309ace878e3",
     "showTitle": false,
     "tableResultSettingsMap": {},
     "title": ""
    }
   },
   "outputs": [],
   "source": [
    "df.groupBy(\"role\").agg(fun.count(\"*\")).display()"
   ]
  },
  {
   "cell_type": "markdown",
   "metadata": {
    "application/vnd.databricks.v1+cell": {
     "cellMetadata": {
      "byteLimit": 2048000,
      "rowLimit": 10000
     },
     "inputWidgets": {},
     "nuid": "69c21069-22bd-4ab5-b919-e2da99bef57b",
     "showTitle": false,
     "tableResultSettingsMap": {},
     "title": ""
    }
   },
   "source": [
    "### MULTI COLUMN"
   ]
  },
  {
   "cell_type": "code",
   "execution_count": 0,
   "metadata": {
    "application/vnd.databricks.v1+cell": {
     "cellMetadata": {
      "byteLimit": 2048000,
      "rowLimit": 10000
     },
     "inputWidgets": {},
     "nuid": "389fc19b-060a-47a3-9b16-60868458569d",
     "showTitle": false,
     "tableResultSettingsMap": {},
     "title": ""
    }
   },
   "outputs": [],
   "source": [
    "df.groupBy(\"role\", \"name\").agg(fun.count(\"*\").alias(\"counter\")).display()"
   ]
  },
  {
   "cell_type": "markdown",
   "metadata": {
    "application/vnd.databricks.v1+cell": {
     "cellMetadata": {
      "byteLimit": 2048000,
      "rowLimit": 10000
     },
     "inputWidgets": {},
     "nuid": "85b32733-374b-4ed8-a745-68790843efad",
     "showTitle": false,
     "tableResultSettingsMap": {},
     "title": ""
    }
   },
   "source": [
    "### MULTI AGGREGATION"
   ]
  },
  {
   "cell_type": "code",
   "execution_count": 0,
   "metadata": {
    "application/vnd.databricks.v1+cell": {
     "cellMetadata": {
      "byteLimit": 2048000,
      "rowLimit": 10000
     },
     "inputWidgets": {},
     "nuid": "134514e7-fb05-4238-9083-dd5439d67194",
     "showTitle": false,
     "tableResultSettingsMap": {},
     "title": ""
    }
   },
   "outputs": [],
   "source": [
    "df.groupBy(\"name\").agg(\n",
    "  fun.count(\"*\").alias(\"counter\"),\n",
    "  fun.min(\"salary\").alias(\"min_salary\"),\n",
    "  fun.max(\"salary\").alias(\"max_salary\"),\n",
    "  fun.avg(\"salary\").alias(\"avg_salary\"),\n",
    "  fun.countDistinct(\"salary\").alias(\"counter_distinct\")\n",
    "  \n",
    ").display()"
   ]
  },
  {
   "cell_type": "markdown",
   "metadata": {
    "application/vnd.databricks.v1+cell": {
     "cellMetadata": {
      "byteLimit": 2048000,
      "rowLimit": 10000
     },
     "inputWidgets": {},
     "nuid": "21f94ba5-d1cb-44a0-b4fc-a791d609c948",
     "showTitle": false,
     "tableResultSettingsMap": {},
     "title": ""
    }
   },
   "source": [
    "### COLLECT"
   ]
  },
  {
   "cell_type": "markdown",
   "metadata": {
    "application/vnd.databricks.v1+cell": {
     "cellMetadata": {
      "byteLimit": 2048000,
      "rowLimit": 10000
     },
     "inputWidgets": {},
     "nuid": "1211e7d1-21fe-4137-8f5f-32d92cd55e32",
     "showTitle": false,
     "tableResultSettingsMap": {},
     "title": ""
    }
   },
   "source": [
    "#### LIST"
   ]
  },
  {
   "cell_type": "code",
   "execution_count": 0,
   "metadata": {
    "application/vnd.databricks.v1+cell": {
     "cellMetadata": {
      "byteLimit": 2048000,
      "rowLimit": 10000
     },
     "inputWidgets": {},
     "nuid": "7bdf3809-514e-4e21-9c1f-f6baca1c8044",
     "showTitle": false,
     "tableResultSettingsMap": {},
     "title": ""
    }
   },
   "outputs": [],
   "source": [
    "df.groupBy(\"role\").agg(\n",
    "    fun.collect_list(\"name\").alias(\"unique_names\")\n",
    ").display()"
   ]
  },
  {
   "cell_type": "markdown",
   "metadata": {
    "application/vnd.databricks.v1+cell": {
     "cellMetadata": {
      "byteLimit": 2048000,
      "rowLimit": 10000
     },
     "inputWidgets": {},
     "nuid": "b7adf150-0833-47ba-bdc8-eee76acc782b",
     "showTitle": false,
     "tableResultSettingsMap": {},
     "title": ""
    }
   },
   "source": [
    "#### SET"
   ]
  },
  {
   "cell_type": "code",
   "execution_count": 0,
   "metadata": {
    "application/vnd.databricks.v1+cell": {
     "cellMetadata": {
      "byteLimit": 2048000,
      "rowLimit": 10000
     },
     "inputWidgets": {},
     "nuid": "75b813b0-d440-4a7f-8a80-aac3185b52d9",
     "showTitle": false,
     "tableResultSettingsMap": {},
     "title": ""
    }
   },
   "outputs": [],
   "source": [
    "df.groupBy(\"role\").agg(\n",
    "    fun.collect_set(\"name\").alias(\"unique_names\")\n",
    ").display()"
   ]
  },
  {
   "cell_type": "markdown",
   "metadata": {
    "application/vnd.databricks.v1+cell": {
     "cellMetadata": {
      "byteLimit": 2048000,
      "rowLimit": 10000
     },
     "inputWidgets": {},
     "nuid": "853bba9d-2046-445f-85ac-f1c352e2822f",
     "showTitle": false,
     "tableResultSettingsMap": {},
     "title": ""
    }
   },
   "source": [
    "### DICTIONARY\n",
    "\n",
    "```python\n",
    "join(\n",
    "    other: 'DataFrame', \n",
    "    on: Union[str, List[str], \n",
    "    pyspark.sql.column.Column, \n",
    "    List[pyspark.sql.column.Column], NoneType] = None, \n",
    "    how: Optional[str] = None\n",
    ")\n",
    "```"
   ]
  },
  {
   "cell_type": "code",
   "execution_count": 0,
   "metadata": {
    "application/vnd.databricks.v1+cell": {
     "cellMetadata": {
      "byteLimit": 2048000,
      "rowLimit": 10000
     },
     "inputWidgets": {},
     "nuid": "9e5c3523-57c1-4bd1-befb-34575cf4fc1b",
     "showTitle": false,
     "tableResultSettingsMap": {},
     "title": ""
    }
   },
   "outputs": [],
   "source": [
    "df.groupBy(\"role\").agg(\n",
    "    {\"salary\": \"avg\", \"age\": \"max\"}\n",
    ").display()"
   ]
  },
  {
   "cell_type": "markdown",
   "metadata": {
    "application/vnd.databricks.v1+cell": {
     "cellMetadata": {
      "byteLimit": 2048000,
      "rowLimit": 10000
     },
     "inputWidgets": {},
     "nuid": "004fae82-0a84-4b3f-8b87-b185175003ba",
     "showTitle": false,
     "tableResultSettingsMap": {},
     "title": ""
    }
   },
   "source": [
    "## JOINS"
   ]
  },
  {
   "cell_type": "markdown",
   "metadata": {
    "application/vnd.databricks.v1+cell": {
     "cellMetadata": {
      "byteLimit": 2048000,
      "rowLimit": 10000
     },
     "inputWidgets": {},
     "nuid": "19bc9657-db64-42ad-922f-0274eabc6e9c",
     "showTitle": false,
     "tableResultSettingsMap": {},
     "title": ""
    }
   },
   "source": [
    "### DATASETS"
   ]
  },
  {
   "cell_type": "code",
   "execution_count": 0,
   "metadata": {
    "application/vnd.databricks.v1+cell": {
     "cellMetadata": {
      "byteLimit": 2048000,
      "rowLimit": 10000
     },
     "inputWidgets": {},
     "nuid": "55a028cc-47c8-410c-8298-384941758972",
     "showTitle": false,
     "tableResultSettingsMap": {},
     "title": ""
    }
   },
   "outputs": [],
   "source": [
    "elements_2 = [\n",
    "{\"id\": 1, \"name\": \"July\", \"age\": 34, \"salary\": 550, \"role\": \"admin\", \"document_type_id\": 1, \"active\": \"Y\"},\n",
    "    {\"id\": 1, \"name\": \"July\", \"age\": 34, \"salary\": 550, \"role\": \"admin\", \"document_type_id\": 1, \"active\": \"Y\"},\n",
    "    {\"id\": 2, \"name\": \"Gabriel\", \"age\": 29, \"salary\": 720, \"role\": \"developer\", \"document_type_id\": 2, \"active\": \"N\"},\n",
    "    {\"id\": 3, \"name\": \"Luis\", \"age\": 42, \"salary\": 610, \"role\": \"developer\", \"document_type_id\": 3, \"active\": \"Y\"},\n",
    "    {\"id\": 4, \"name\": \"John\", \"age\": 51, \"salary\": 890, \"role\": \"manager\", \"document_type_id\": 5, \"active\": \"Y\"},  \n",
    "    {\"id\": 5, \"name\": \"Daniel\", \"age\": 27, \"salary\": 480, \"role\": \"developer\", \"document_type_id\": None, \"active\": \"N\"}, \n",
    "    {\"id\": 6, \"name\": \"Mary\", \"age\": 38, \"salary\": 700, \"role\": \"admin\", \"document_type_id\": 2, \"active\": \"Y\"},\n",
    "    {\"id\": 7, \"name\": \"Monica\", \"age\": 33, \"salary\": 460, \"role\": \"tester\", \"document_type_id\": None, \"active\": \"N\"},  \n",
    "    {\"id\": 8, \"name\": \"Andrea\", \"age\": 45, \"salary\": 680, \"role\": \"admin\", \"document_type_id\": 6, \"active\": \"Y\"},  \n",
    "    {\"id\": 9, \"name\": \"Sebastian\", \"age\": 31, \"salary\": 530, \"role\": \"developer\", \"document_type_id\": 1, \"active\": \"Y\"},\n",
    "    {\"id\": 10, \"name\": \"Johana\", \"age\": 26, \"salary\": 410, \"role\": \"tester\", \"document_type_id\": 4, \"active\": \"N\"},\n",
    "    {\"id\": 11, \"name\": None, \"age\": 26, \"salary\": None, \"role\": \"tester\", \"document_type_id\": None, \"active\": \"N\"}, \n",
    "    {\"id\": 12, \"name\": \"Juan\", \"age\": 45, \"salary\": 680, \"role\": None, \"document_type_id\": 3, \"active\": \"Y\"}\n",
    "]\n",
    "\n",
    "document_types = [\n",
    "    {\n",
    "        \"document_type\": \"passport\",\n",
    "        \"document_type_id\": 1,\n",
    "        \"description\": \"International passport document\",\n",
    "        \"active\": \"Y\"\n",
    "    },\n",
    "    {\n",
    "        \"document_type\": \"national_id\",\n",
    "        \"document_type_id\": 2,\n",
    "        \"description\": \"National identity card\",\n",
    "        \"active\": \"Y\"\n",
    "    },\n",
    "    {\n",
    "        \"document_type\": \"driver_license\",\n",
    "        \"document_type_id\": 3,\n",
    "        \"description\": \"Driver's license document\",\n",
    "        \"active\": \"N\"\n",
    "    },\n",
    "    {\n",
    "        \"document_type\": \"residence_permit\",\n",
    "        \"document_type_id\": 4,\n",
    "        \"description\": \"Residency permit for foreign citizens\",\n",
    "        \"active\": \"Y\"\n",
    "    }\n",
    "]\n",
    "\n",
    "\n",
    "document_typesV2 = [\n",
    "    {\n",
    "        \"document_type\": \"passport\",\n",
    "        \"type_id\": 1,\n",
    "        \"description\": \"International passport document\",\n",
    "        \"active\": \"Y\"\n",
    "    },\n",
    "    {\n",
    "        \"document_type\": \"national_id\",\n",
    "        \"type_id\": 2,\n",
    "        \"description\": \"National identity card\",\n",
    "        \"active\": \"Y\"\n",
    "    },\n",
    "    {\n",
    "        \"document_type\": \"driver_license\",\n",
    "        \"type_id\": 3,\n",
    "        \"description\": \"Driver's license document\",\n",
    "        \"active\": \"N\"\n",
    "    },\n",
    "    {\n",
    "        \"document_type\": \"residence_permit\",\n",
    "        \"type_id\": 4,\n",
    "        \"description\": \"Residency permit for foreign citizens\",\n",
    "        \"active\": \"Y\"\n",
    "    }\n",
    "]\n",
    "\n",
    "\n",
    "dfj = spark.createDataFrame(elements_2)\n",
    "dtp = spark.createDataFrame(document_types)\n",
    "dtpV2 = spark.createDataFrame(document_typesV2)\n"
   ]
  },
  {
   "cell_type": "markdown",
   "metadata": {
    "application/vnd.databricks.v1+cell": {
     "cellMetadata": {
      "byteLimit": 2048000,
      "rowLimit": 10000
     },
     "inputWidgets": {},
     "nuid": "70fde5fd-b28b-4aa9-a2fe-29f644f05985",
     "showTitle": false,
     "tableResultSettingsMap": {},
     "title": ""
    }
   },
   "source": [
    "#### DOCUMENT TYPE"
   ]
  },
  {
   "cell_type": "code",
   "execution_count": 0,
   "metadata": {
    "application/vnd.databricks.v1+cell": {
     "cellMetadata": {
      "byteLimit": 2048000,
      "rowLimit": 10000
     },
     "inputWidgets": {},
     "nuid": "65344c39-1748-4814-a51c-1c38df0921b5",
     "showTitle": false,
     "tableResultSettingsMap": {},
     "title": ""
    }
   },
   "outputs": [],
   "source": [
    "display(dtp)"
   ]
  },
  {
   "cell_type": "markdown",
   "metadata": {
    "application/vnd.databricks.v1+cell": {
     "cellMetadata": {
      "byteLimit": 2048000,
      "rowLimit": 10000
     },
     "inputWidgets": {},
     "nuid": "eef8198b-6ff1-463e-bf9f-25ff0a120127",
     "showTitle": false,
     "tableResultSettingsMap": {},
     "title": ""
    }
   },
   "source": [
    "#### USERS"
   ]
  },
  {
   "cell_type": "code",
   "execution_count": 0,
   "metadata": {
    "application/vnd.databricks.v1+cell": {
     "cellMetadata": {
      "byteLimit": 2048000,
      "rowLimit": 10000
     },
     "inputWidgets": {},
     "nuid": "0d6b2696-e701-4345-9aba-db6884ec07cb",
     "showTitle": false,
     "tableResultSettingsMap": {},
     "title": ""
    }
   },
   "outputs": [],
   "source": [
    "display(dfj)"
   ]
  },
  {
   "cell_type": "markdown",
   "metadata": {
    "application/vnd.databricks.v1+cell": {
     "cellMetadata": {
      "byteLimit": 2048000,
      "rowLimit": 10000
     },
     "inputWidgets": {},
     "nuid": "91b2c425-f010-4490-96e6-d357449a6da7",
     "showTitle": false,
     "tableResultSettingsMap": {},
     "title": ""
    }
   },
   "source": [
    "#### DOCUMENT TYPE V2"
   ]
  },
  {
   "cell_type": "code",
   "execution_count": 0,
   "metadata": {
    "application/vnd.databricks.v1+cell": {
     "cellMetadata": {
      "byteLimit": 2048000,
      "rowLimit": 10000
     },
     "inputWidgets": {},
     "nuid": "fc0e080b-479d-4bf4-8e84-7c1265d1489d",
     "showTitle": false,
     "tableResultSettingsMap": {},
     "title": ""
    }
   },
   "outputs": [],
   "source": [
    "dtpV2.display()"
   ]
  },
  {
   "cell_type": "markdown",
   "metadata": {
    "application/vnd.databricks.v1+cell": {
     "cellMetadata": {
      "byteLimit": 2048000,
      "rowLimit": 10000
     },
     "inputWidgets": {},
     "nuid": "03c6e958-e6e6-4c63-a1e3-0672fde25144",
     "showTitle": false,
     "tableResultSettingsMap": {},
     "title": ""
    }
   },
   "source": [
    "### INNER\n",
    "\n",
    "![inner](https://res.cloudinary.com/pym/image/upload/c_scale,f_auto,q_auto,w_258/articles/2019/sql/INNER_JOIN)"
   ]
  },
  {
   "cell_type": "markdown",
   "metadata": {
    "application/vnd.databricks.v1+cell": {
     "cellMetadata": {
      "byteLimit": 2048000,
      "rowLimit": 10000
     },
     "inputWidgets": {},
     "nuid": "14d72045-a8d6-402d-823a-70c2d39e4d18",
     "showTitle": false,
     "tableResultSettingsMap": {},
     "title": ""
    }
   },
   "source": [
    "#### SIMPLE"
   ]
  },
  {
   "cell_type": "code",
   "execution_count": 0,
   "metadata": {
    "application/vnd.databricks.v1+cell": {
     "cellMetadata": {
      "byteLimit": 2048000,
      "rowLimit": 10000
     },
     "inputWidgets": {},
     "nuid": "e5644d3c-e5d3-4a06-9ac8-5217acb5ac72",
     "showTitle": false,
     "tableResultSettingsMap": {},
     "title": ""
    }
   },
   "outputs": [],
   "source": [
    "dfj.join(dtp, on=\"document_type_id\", how=\"inner\").display()"
   ]
  },
  {
   "cell_type": "markdown",
   "metadata": {
    "application/vnd.databricks.v1+cell": {
     "cellMetadata": {
      "byteLimit": 2048000,
      "rowLimit": 10000
     },
     "inputWidgets": {},
     "nuid": "9193660c-e788-412d-aac0-18a020707fad",
     "showTitle": false,
     "tableResultSettingsMap": {},
     "title": ""
    }
   },
   "source": [
    "#### DIFFERENT NAMES\n"
   ]
  },
  {
   "cell_type": "code",
   "execution_count": 0,
   "metadata": {
    "application/vnd.databricks.v1+cell": {
     "cellMetadata": {
      "byteLimit": 2048000,
      "rowLimit": 10000
     },
     "inputWidgets": {},
     "nuid": "80cd9aba-4fc2-43f5-9326-f2023a6ed5b9",
     "showTitle": false,
     "tableResultSettingsMap": {},
     "title": ""
    }
   },
   "outputs": [],
   "source": [
    "dfj.join(dtpV2, on=dfj.document_type_id==dtpV2.type_id, how=\"inner\").display()"
   ]
  },
  {
   "cell_type": "markdown",
   "metadata": {
    "application/vnd.databricks.v1+cell": {
     "cellMetadata": {
      "byteLimit": 2048000,
      "rowLimit": 10000
     },
     "inputWidgets": {},
     "nuid": "4a65d4d2-d3c7-4883-b2fb-4b525e0c2e57",
     "showTitle": false,
     "tableResultSettingsMap": {},
     "title": ""
    }
   },
   "source": [
    "#### MULTIPLE COLUNS"
   ]
  },
  {
   "cell_type": "markdown",
   "metadata": {
    "application/vnd.databricks.v1+cell": {
     "cellMetadata": {
      "byteLimit": 2048000,
      "rowLimit": 10000
     },
     "inputWidgets": {},
     "nuid": "a4741cc2-e8d3-4cb1-a474-37565a0b9333",
     "showTitle": false,
     "tableResultSettingsMap": {},
     "title": ""
    }
   },
   "source": [
    "##### LIST"
   ]
  },
  {
   "cell_type": "code",
   "execution_count": 0,
   "metadata": {
    "application/vnd.databricks.v1+cell": {
     "cellMetadata": {
      "byteLimit": 2048000,
      "rowLimit": 10000
     },
     "inputWidgets": {},
     "nuid": "4ee76552-4425-4274-9ebb-e4740e8da9af",
     "showTitle": false,
     "tableResultSettingsMap": {},
     "title": ""
    }
   },
   "outputs": [],
   "source": [
    "# INNER JOIN dfj.document_type_id = dtp.document_type_id AND Dfj.active = dtp.active\n",
    "dfj.join(dtp, on=[\"document_type_id\", \"active\"], how=\"inner\").display()"
   ]
  },
  {
   "cell_type": "markdown",
   "metadata": {
    "application/vnd.databricks.v1+cell": {
     "cellMetadata": {
      "byteLimit": 2048000,
      "rowLimit": 10000
     },
     "inputWidgets": {},
     "nuid": "0e5dd5bf-1ec1-4d8b-ab5e-6e6825d0c632",
     "showTitle": false,
     "tableResultSettingsMap": {},
     "title": ""
    }
   },
   "source": [
    "##### ATRIBUTES"
   ]
  },
  {
   "cell_type": "code",
   "execution_count": 0,
   "metadata": {
    "application/vnd.databricks.v1+cell": {
     "cellMetadata": {
      "byteLimit": 2048000,
      "rowLimit": 10000
     },
     "inputWidgets": {},
     "nuid": "7e3deb58-d031-4847-84aa-39e2ef37a112",
     "showTitle": false,
     "tableResultSettingsMap": {},
     "title": ""
    }
   },
   "outputs": [],
   "source": [
    "dfj.join(\n",
    "    dtpV2,\n",
    "    on=(\n",
    "        (dfj.document_type_id==dtpV2.type_id) & (dfj.active==dtpV2.active)\n",
    "    ),\n",
    "    how=\"inner\"\n",
    ").display()"
   ]
  },
  {
   "cell_type": "code",
   "execution_count": 0,
   "metadata": {
    "application/vnd.databricks.v1+cell": {
     "cellMetadata": {
      "byteLimit": 2048000,
      "rowLimit": 10000
     },
     "inputWidgets": {},
     "nuid": "5cf924c5-8ca6-4539-a1bc-4e327b9cf16d",
     "showTitle": false,
     "tableResultSettingsMap": {},
     "title": ""
    }
   },
   "outputs": [],
   "source": [
    "abc = dfj.join(\n",
    "    dtpV2,\n",
    "    on=(\n",
    "        (dfj.document_type_id==dtpV2.type_id) & (dfj.active==dtpV2.active)\n",
    "    ),\n",
    "    how=\"inner\"\n",
    ")\n",
    "abc.explain()"
   ]
  },
  {
   "cell_type": "markdown",
   "metadata": {
    "application/vnd.databricks.v1+cell": {
     "cellMetadata": {
      "byteLimit": 2048000,
      "rowLimit": 10000
     },
     "inputWidgets": {},
     "nuid": "631c75e3-8b65-4f44-9679-a46fb1103d16",
     "showTitle": false,
     "tableResultSettingsMap": {},
     "title": ""
    }
   },
   "source": [
    "### LEFT\n",
    "\n",
    "![inner](https://res.cloudinary.com/pym/image/upload/c_scale,f_auto,q_auto,w_258/articles/2019/sql/LEFT_JOIN)"
   ]
  },
  {
   "cell_type": "code",
   "execution_count": 0,
   "metadata": {
    "application/vnd.databricks.v1+cell": {
     "cellMetadata": {
      "byteLimit": 2048000,
      "rowLimit": 10000
     },
     "inputWidgets": {},
     "nuid": "2be71700-8b2d-4c58-aa3e-9e45ccdc64bf",
     "showTitle": false,
     "tableResultSettingsMap": {},
     "title": ""
    }
   },
   "outputs": [],
   "source": [
    "dfj.join(dtp, on=\"document_type_id\", how=\"left\").display()"
   ]
  },
  {
   "cell_type": "markdown",
   "metadata": {
    "application/vnd.databricks.v1+cell": {
     "cellMetadata": {
      "byteLimit": 2048000,
      "rowLimit": 10000
     },
     "inputWidgets": {},
     "nuid": "f45fd865-2f20-4c44-8c88-3c1efa754d1f",
     "showTitle": false,
     "tableResultSettingsMap": {},
     "title": ""
    }
   },
   "source": [
    "### RIGHT\n",
    "\n",
    "![inner](https://res.cloudinary.com/pym/image/upload/c_scale,f_auto,q_auto,w_258/articles/2019/sql/RIGHT_JOIN)"
   ]
  },
  {
   "cell_type": "code",
   "execution_count": 0,
   "metadata": {
    "application/vnd.databricks.v1+cell": {
     "cellMetadata": {
      "byteLimit": 2048000,
      "rowLimit": 10000
     },
     "inputWidgets": {},
     "nuid": "92fcf340-d893-4434-86b2-d9cbcdc561ba",
     "showTitle": false,
     "tableResultSettingsMap": {},
     "title": ""
    }
   },
   "outputs": [],
   "source": [
    "dfj.join(dtp, on=\"document_type_id\", how=\"right\").display()"
   ]
  },
  {
   "cell_type": "markdown",
   "metadata": {
    "application/vnd.databricks.v1+cell": {
     "cellMetadata": {
      "byteLimit": 2048000,
      "rowLimit": 10000
     },
     "inputWidgets": {},
     "nuid": "7f5b3748-e5c5-47f8-ad6a-c9df4ca94bcc",
     "showTitle": false,
     "tableResultSettingsMap": {},
     "title": ""
    }
   },
   "source": [
    "### OUTER\n",
    "\n",
    "`outer` or `full `\n",
    "\n",
    "\n",
    "![inner](https://res.cloudinary.com/pym/image/upload/c_scale,f_auto,q_auto,w_258/articles/2019/sql/FULL_JOIN)"
   ]
  },
  {
   "cell_type": "code",
   "execution_count": 0,
   "metadata": {
    "application/vnd.databricks.v1+cell": {
     "cellMetadata": {
      "byteLimit": 2048000,
      "rowLimit": 10000
     },
     "inputWidgets": {},
     "nuid": "77f20164-2931-462a-8219-ffaf5a9a7356",
     "showTitle": false,
     "tableResultSettingsMap": {},
     "title": ""
    }
   },
   "outputs": [],
   "source": [
    "dfj.join(dtp, on=\"document_type_id\", how=\"full\").display()"
   ]
  },
  {
   "cell_type": "markdown",
   "metadata": {
    "application/vnd.databricks.v1+cell": {
     "cellMetadata": {
      "byteLimit": 2048000,
      "rowLimit": 10000
     },
     "inputWidgets": {},
     "nuid": "39b83860-70f4-47fb-82b4-f0b92201bd9a",
     "showTitle": false,
     "tableResultSettingsMap": {},
     "title": ""
    }
   },
   "source": [
    "### CROSS\n",
    "\n",
    "![inner|100x100](https://cdn.prod.website-files.com/676a9690ef4ec151a69571ff/67927323d9ca570e7ae71e8d_52018.svg)"
   ]
  },
  {
   "cell_type": "code",
   "execution_count": 0,
   "metadata": {
    "application/vnd.databricks.v1+cell": {
     "cellMetadata": {
      "byteLimit": 2048000,
      "rowLimit": 10000
     },
     "inputWidgets": {},
     "nuid": "fb847e75-48ac-4455-8f2f-a798b488bc50",
     "showTitle": false,
     "tableResultSettingsMap": {},
     "title": ""
    }
   },
   "outputs": [],
   "source": [
    "dfj.crossJoin(dtp).display()"
   ]
  },
  {
   "cell_type": "markdown",
   "metadata": {
    "application/vnd.databricks.v1+cell": {
     "cellMetadata": {
      "byteLimit": 2048000,
      "rowLimit": 10000
     },
     "inputWidgets": {},
     "nuid": "4b98240e-80a8-4671-a86e-62f4f7d483ca",
     "showTitle": false,
     "tableResultSettingsMap": {},
     "title": ""
    }
   },
   "source": [
    "## UNION"
   ]
  },
  {
   "cell_type": "code",
   "execution_count": 0,
   "metadata": {
    "application/vnd.databricks.v1+cell": {
     "cellMetadata": {
      "byteLimit": 2048000,
      "rowLimit": 10000
     },
     "inputWidgets": {},
     "nuid": "b15c4b18-902c-437d-87f6-49ed3da2ed2c",
     "showTitle": false,
     "tableResultSettingsMap": {},
     "title": ""
    }
   },
   "outputs": [],
   "source": [
    "dtpV2.dtypes"
   ]
  },
  {
   "cell_type": "code",
   "execution_count": 0,
   "metadata": {
    "application/vnd.databricks.v1+cell": {
     "cellMetadata": {
      "byteLimit": 2048000,
      "rowLimit": 10000
     },
     "inputWidgets": {},
     "nuid": "f3cb00a8-d024-47f9-a7d6-ac8b8284ef7f",
     "showTitle": false,
     "tableResultSettingsMap": {},
     "title": ""
    }
   },
   "outputs": [],
   "source": [
    "test = dtpV2.withColumnRenamed(\"type_id\", \"document_type_id\")"
   ]
  },
  {
   "cell_type": "markdown",
   "metadata": {
    "application/vnd.databricks.v1+cell": {
     "cellMetadata": {
      "byteLimit": 2048000,
      "rowLimit": 10000
     },
     "inputWidgets": {},
     "nuid": "0bf0d2a5-0343-4957-9b61-e8a69a7cd2b5",
     "showTitle": false,
     "tableResultSettingsMap": {},
     "title": ""
    }
   },
   "source": [
    "### UNION"
   ]
  },
  {
   "cell_type": "code",
   "execution_count": 0,
   "metadata": {
    "application/vnd.databricks.v1+cell": {
     "cellMetadata": {
      "byteLimit": 2048000,
      "rowLimit": 10000
     },
     "inputWidgets": {},
     "nuid": "c484148b-cd90-436c-9833-47f7c339f43c",
     "showTitle": false,
     "tableResultSettingsMap": {},
     "title": ""
    }
   },
   "outputs": [],
   "source": [
    "dtp.union(test).display()"
   ]
  },
  {
   "cell_type": "markdown",
   "metadata": {
    "application/vnd.databricks.v1+cell": {
     "cellMetadata": {
      "byteLimit": 2048000,
      "rowLimit": 10000
     },
     "inputWidgets": {},
     "nuid": "e9ae2df1-5f31-4ef1-88a4-33eefaf93b7d",
     "showTitle": false,
     "tableResultSettingsMap": {},
     "title": ""
    }
   },
   "source": [
    "### UNION ALL"
   ]
  },
  {
   "cell_type": "code",
   "execution_count": 0,
   "metadata": {
    "application/vnd.databricks.v1+cell": {
     "cellMetadata": {
      "byteLimit": 2048000,
      "rowLimit": 10000
     },
     "inputWidgets": {},
     "nuid": "0abba1d5-bce5-484c-8ef1-d8387da8d79f",
     "showTitle": false,
     "tableResultSettingsMap": {},
     "title": ""
    }
   },
   "outputs": [],
   "source": [
    "dtp.unionAll(test).display()"
   ]
  },
  {
   "cell_type": "markdown",
   "metadata": {
    "application/vnd.databricks.v1+cell": {
     "cellMetadata": {
      "byteLimit": 2048000,
      "rowLimit": 10000
     },
     "inputWidgets": {},
     "nuid": "7fa3ded0-3672-40a4-9c2d-e6e00342e789",
     "showTitle": false,
     "tableResultSettingsMap": {},
     "title": ""
    }
   },
   "source": [
    "### WITHOUT REPEATED VALUES"
   ]
  },
  {
   "cell_type": "code",
   "execution_count": 0,
   "metadata": {
    "application/vnd.databricks.v1+cell": {
     "cellMetadata": {
      "byteLimit": 2048000,
      "rowLimit": 10000
     },
     "inputWidgets": {},
     "nuid": "f3f55bbd-204c-4fd5-b111-e6314652726a",
     "showTitle": false,
     "tableResultSettingsMap": {},
     "title": ""
    }
   },
   "outputs": [],
   "source": [
    "dtp.unionAll(test).distinct().display()"
   ]
  },
  {
   "cell_type": "markdown",
   "metadata": {
    "application/vnd.databricks.v1+cell": {
     "cellMetadata": {
      "byteLimit": 2048000,
      "rowLimit": 10000
     },
     "inputWidgets": {},
     "nuid": "88d20620-987e-41ba-8571-c85c96275794",
     "showTitle": false,
     "tableResultSettingsMap": {},
     "title": ""
    }
   },
   "source": [
    "### UNION BY NAME\n",
    "\n",
    "If they have a name, it is stricter"
   ]
  },
  {
   "cell_type": "code",
   "execution_count": 0,
   "metadata": {
    "application/vnd.databricks.v1+cell": {
     "cellMetadata": {
      "byteLimit": 2048000,
      "rowLimit": 10000
     },
     "inputWidgets": {},
     "nuid": "2b4c98bb-a6c0-4e1c-ac59-9b35586bb131",
     "showTitle": false,
     "tableResultSettingsMap": {},
     "title": ""
    }
   },
   "outputs": [],
   "source": [
    "dtp.unionByName(test).display()"
   ]
  }
 ],
 "metadata": {
  "application/vnd.databricks.v1+notebook": {
   "computePreferences": null,
   "dashboards": [],
   "environmentMetadata": {
    "base_environment": "",
    "environment_version": "2"
   },
   "inputWidgetPreferences": null,
   "language": "python",
   "notebookMetadata": {
    "pythonIndentUnit": 4
   },
   "notebookName": "005.aggregations.joins",
   "widgets": {}
  },
  "language_info": {
   "name": "python"
  }
 },
 "nbformat": 4,
 "nbformat_minor": 0
}
