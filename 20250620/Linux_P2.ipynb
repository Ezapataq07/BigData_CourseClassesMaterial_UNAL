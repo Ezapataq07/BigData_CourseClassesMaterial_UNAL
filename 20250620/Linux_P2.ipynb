{
 "cells": [
  {
   "cell_type": "code",
   "execution_count": 2,
   "id": "1daef6f5",
   "metadata": {
    "vscode": {
     "languageId": "shellscript"
    }
   },
   "outputs": [
    {
     "name": "stdout",
     "output_type": "stream",
     "text": [
      "          1  2  3  4                     1                     1  \n",
      " 5  6  7  8  9 10 11   2  3  4  5  6  7  8   2  3  4  5  6  7  8  \n",
      "12 13 14 15 16 17 18   9 10 11 12 13 14 15   9 10 11 12 13 14 15  \n",
      "19 20 21 22 23 24 25  16 17 18 19 20 21 22  16 17 18 19 20 21 22  \n",
      "26 27 28 29 30 31     23 24 25 26 27 28     23 24 25 26 27 28 29  \n",
      "                                            30 31                 \n",
      "       1  2  3  4  5               1  2  3   1  2  3  4  5  6  7  \n",
      " 6  7  8  9 10 11 12   4  5  6  7  8  9 10   8  9 10 11 12 13 14  \n",
      "13 14 15 16 17 18 19  11 12 13 14 15 16 17  15 16 17 18 19 20 21  \n",
      "20 21 22 23 24 25 26  18 19 20 21 22 23 24  22 23 24 25 26 27 28  \n",
      "27 28 29 30           25 26 27 28 29 30 31  29 30                 \n",
      "       1  2  3  4  5                  1  2      1  2  3  4  5  6  \n",
      " 6  7  8  9 10 11 12   3  4  5  6  7  8  9   7  8  9 10 11 12 13  \n",
      "13 14 15 16 17 18 19  10 11 12 13 14 15 16  14 15 16 17 18 19 20  \n",
      "20 21 22 23 24 25 26  17 18 19 20 21 22 23  21 22 23 24 25 26 27  \n",
      "27 28 29 30 31        24 25 26 27 28 29 30  28 29 30              \n",
      "                      31                                          \n",
      "          1  2  3  4                     1      1  2  3  4  5  6  \n",
      " 5  6  7  8  9 10 11   2  3  4  5  6  7  8   7  8  9 10 11 12 13  \n",
      "12 13 14 15 16 17 18   9 10 11 12 13 14 15  14 15 16 17 18 19 20  \n",
      "19 20 21 22 23 24 25  16 17 18 19 20 21 22  21 22 23 24 25 26 27  \n",
      "26 27 28 29 30 31     23 24 25 26 27 28 29  28 29 30 31           \n"
     ]
    }
   ],
   "source": [
    "%%bash\n",
    "grep 1 calendar.txt"
   ]
  },
  {
   "cell_type": "code",
   "execution_count": null,
   "id": "bc11f242",
   "metadata": {
    "vscode": {
     "languageId": "shellscript"
    }
   },
   "outputs": [],
   "source": []
  },
  {
   "cell_type": "code",
   "execution_count": null,
   "id": "d6aa3198",
   "metadata": {
    "vscode": {
     "languageId": "shellscript"
    }
   },
   "outputs": [],
   "source": []
  },
  {
   "cell_type": "code",
   "execution_count": null,
   "id": "6584af24",
   "metadata": {
    "vscode": {
     "languageId": "shellscript"
    }
   },
   "outputs": [],
   "source": []
  },
  {
   "cell_type": "code",
   "execution_count": null,
   "id": "21527057",
   "metadata": {
    "vscode": {
     "languageId": "shellscript"
    }
   },
   "outputs": [],
   "source": []
  },
  {
   "cell_type": "code",
   "execution_count": null,
   "id": "811ccfe0",
   "metadata": {
    "vscode": {
     "languageId": "shellscript"
    }
   },
   "outputs": [],
   "source": []
  },
  {
   "cell_type": "code",
   "execution_count": null,
   "id": "07c2163e",
   "metadata": {
    "vscode": {
     "languageId": "shellscript"
    }
   },
   "outputs": [],
   "source": []
  },
  {
   "cell_type": "code",
   "execution_count": null,
   "id": "5f5b029e",
   "metadata": {
    "vscode": {
     "languageId": "shellscript"
    }
   },
   "outputs": [],
   "source": []
  },
  {
   "cell_type": "code",
   "execution_count": null,
   "id": "70c7e64f",
   "metadata": {
    "vscode": {
     "languageId": "shellscript"
    }
   },
   "outputs": [],
   "source": []
  },
  {
   "cell_type": "code",
   "execution_count": null,
   "id": "297aecfd",
   "metadata": {
    "vscode": {
     "languageId": "shellscript"
    }
   },
   "outputs": [],
   "source": []
  }
 ],
 "metadata": {
  "kernelspec": {
   "display_name": ".venv",
   "language": "python",
   "name": "python3"
  },
  "language_info": {
   "codemirror_mode": {
    "name": "ipython",
    "version": 3
   },
   "file_extension": ".py",
   "mimetype": "text/x-python",
   "name": "python",
   "nbconvert_exporter": "python",
   "pygments_lexer": "ipython3",
   "version": "3.12.3"
  }
 },
 "nbformat": 4,
 "nbformat_minor": 5
}
