{
  "cells": [
    {
      "cell_type": "markdown",
      "metadata": {
        "id": "NM_EHRkAuUot"
      },
      "source": [
        "<p><img src=\"https://upload.wikimedia.org/wikipedia/commons/thumb/1/1e/UNAL_Logosimbolo.svg/583px-UNAL_Logosimbolo.svg.png\" alt=\"\" width=\"1280\" height=\"300\" /></p>\n",
        "\n"
      ]
    },
    {
      "cell_type": "markdown",
      "metadata": {
        "id": "VhRNZvsUuYxF"
      },
      "source": [
        "# **FUNCIONES**\n",
        "\n",
        "La función es un bloque de código reutilizable que realiza una tarea específica cuando se llama o se invoca. Las funciones se utilizan para organizar y modularizar el código, lo que facilita la comprensión y el mantenimiento de programas más grandes. Cada función en Python tiene un nombre y puede recibir argumentos (valores de entrada) y devolver un resultado (valores de salida).\n",
        "\n",
        "\n",
        "**USAR FUNCIONES ES LA CLAVE PARA:**\n",
        "\n",
        "\n",
        "\n",
        "1.   Programación funcional\n",
        "2.   Programación orientada a objetos\n",
        "3.   Programación orientada a procedimientos\n",
        "\n",
        "\n",
        "<p><img src=\"https://www.scientecheasy.com/wp-content/uploads/2022/11/python-function-definition.png\" alt=\"\" width=\"1280\" height=\"300\" /></p>\n",
        "\n",
        "> **DRY=Don't repeat yourself = No te repitas a ti mismo**:\n",
        ">  si algo se repite mucho, se debe usar funcion para evitar esta mala practica\n",
        "\n",
        "\n"
      ]
    },
    {
      "cell_type": "markdown",
      "metadata": {
        "id": "VQ1ZWMlC40qN"
      },
      "source": [
        "## **SIN PARÁMETROS NI RETORNO**"
      ]
    },
    {
      "cell_type": "code",
      "execution_count": null,
      "metadata": {
        "colab": {
          "base_uri": "https://localhost:8080/"
        },
        "id": "fpPVKO90uLZ6",
        "outputId": "094fb74d-47cb-4b0c-82c6-35e493a96b4b"
      },
      "outputs": [
        {
          "name": "stdout",
          "output_type": "stream",
          "text": [
            "**********\n",
            "Hola a tod@s!\n",
            "**********\n"
          ]
        }
      ],
      "source": [
        "# definición\n",
        "def imprimir_saludo():\n",
        "  print(\"*\" * 10)\n",
        "  print(\"Hola a tod@s!\")\n",
        "  print(\"*\" * 10)\n",
        "\n",
        "\n",
        "# llamado de una función\n",
        "imprimir_saludo()"
      ]
    },
    {
      "cell_type": "markdown",
      "metadata": {
        "id": "q56iKki56SWU"
      },
      "source": [
        "## **CON PARÁMETROS - SIN RETORNO**\n",
        "\n",
        "Nota: los parámetros que ustedes vean que no tienen un `=` son valores obligatorios ordenados"
      ]
    },
    {
      "cell_type": "code",
      "execution_count": null,
      "metadata": {
        "colab": {
          "base_uri": "https://localhost:8080/"
        },
        "id": "v-_sZp4f6eVR",
        "outputId": "460a58b6-d7cd-4b3a-a171-898c5305712f"
      },
      "outputs": [
        {
          "name": "stdout",
          "output_type": "stream",
          "text": [
            "****************\n",
            "Hola a: Luis\n",
            "****************\n"
          ]
        }
      ],
      "source": [
        "def imprimir_saludo_2(nombre:str):\n",
        "  longitud_ast = len(nombre) + 12\n",
        "  print(\"*\" * longitud_ast)\n",
        "  print(\"Hola a: \" + nombre)\n",
        "  print(\"*\" * longitud_ast)\n",
        "\n",
        "imprimir_saludo_2(\"Luis\")"
      ]
    },
    {
      "cell_type": "code",
      "execution_count": null,
      "metadata": {
        "colab": {
          "base_uri": "https://localhost:8080/"
        },
        "id": "N6XdXE_K8Nxj",
        "outputId": "7fa7c1c8-996b-4463-94e7-a071b786ff94"
      },
      "outputs": [
        {
          "name": "stdout",
          "output_type": "stream",
          "text": [
            "*****************\n",
            "Hola a: Elena\n",
            "*****************\n"
          ]
        }
      ],
      "source": [
        "imprimir_saludo_2(\"Elena\")"
      ]
    },
    {
      "cell_type": "code",
      "execution_count": null,
      "metadata": {
        "colab": {
          "base_uri": "https://localhost:8080/"
        },
        "id": "u5-xq9tp8oqq",
        "outputId": "e1255f20-7a74-449b-f459-9cc6172795bb"
      },
      "outputs": [
        {
          "name": "stdout",
          "output_type": "stream",
          "text": [
            "******************************\n",
            "Hola a: Arnulfsdsdsdsdsdso\n",
            "******************************\n"
          ]
        }
      ],
      "source": [
        "imprimir_saludo_2(\"Arnulfsdsdsdsdsdso\")"
      ]
    },
    {
      "cell_type": "markdown",
      "metadata": {
        "id": "oJ9qqhTk_9A-"
      },
      "source": [
        "## **SIN PARÁMETROS - CON RETORNO**\n",
        "\n",
        "Los retornos los utilizamos siempre y cuando queremos utilizar afuera de la función el valor calculado. Las variables definidas dentro de una función, solamente existen dentro de la misma, y a esto lo llamaremos ámbito.\n",
        "\n",
        "[ascii generator:](https://patorjk.com/software/taag/#p=display&f=Graffiti&t=Type%20Something%20)\n",
        "\n",
        "\n",
        "\n",
        "```\n",
        "return retornar algo (simple o múltiple)\n",
        "```\n",
        "\n"
      ]
    },
    {
      "cell_type": "code",
      "execution_count": null,
      "metadata": {
        "colab": {
          "base_uri": "https://localhost:8080/"
        },
        "id": "T5bCfm9TAicC",
        "outputId": "806a3d81-8235-412d-8e05-fa3a4cdca327"
      },
      "outputs": [
        {
          "name": "stdout",
          "output_type": "stream",
          "text": [
            "\n",
            "  _   _ _  _   _   _    \n",
            " | | | | \\| | /_\\ | |   \n",
            " | |_| | .` |/ _ \\| |__ \n",
            "  \\___/|_|\\_/_/ \\_\\____|\n",
            "                        \n",
            "\n",
            "    materia: Analítica y Big Data\n",
            "  \n"
          ]
        }
      ],
      "source": [
        "def encabezado_simple():\n",
        "  saludo = \"\"\"\n",
        "  _   _ _  _   _   _\n",
        " | | | | \\| | /_\\ | |\n",
        " | |_| | .` |/ _ \\| |__\n",
        "  \\___/|_|\\_/_/ \\_\\____|\n",
        "\n",
        "\n",
        "    materia: Analítica y Big Data\n",
        "  \"\"\"\n",
        "\n",
        "  return saludo\n",
        "\n",
        "valor_retornado = encabezado_simple()\n",
        "print(valor_retornado)"
      ]
    },
    {
      "cell_type": "code",
      "execution_count": null,
      "metadata": {
        "colab": {
          "base_uri": "https://localhost:8080/"
        },
        "id": "ymJezfraBoHi",
        "outputId": "7977b236-f20c-497b-dbcb-6d4a026986c4"
      },
      "outputs": [
        {
          "name": "stdout",
          "output_type": "stream",
          "text": [
            "\n",
            "  _   _ _  _   _   _    \n",
            " | | | | \\| | /_\\ | |   \n",
            " | |_| | .` |/ _ \\| |__ \n",
            "  \\___/|_|\\_/_/ \\_\\____|\n",
            "                        \n",
            "\n",
            "    materia: Analítica y Big Data\n",
            "  \n"
          ]
        }
      ],
      "source": [
        "print(encabezado_simple())"
      ]
    },
    {
      "cell_type": "markdown",
      "metadata": {
        "id": "FEnMqytBCILu"
      },
      "source": [
        "## **CON PARÁMETROS - CON RETORNO**"
      ]
    },
    {
      "cell_type": "code",
      "execution_count": null,
      "metadata": {
        "colab": {
          "base_uri": "https://localhost:8080/"
        },
        "id": "Q-DDv3r7CIhN",
        "outputId": "891042c7-aef8-4485-c1b9-923bc86653a6"
      },
      "outputs": [
        {
          "name": "stdout",
          "output_type": "stream",
          "text": [
            "\n",
            "\n",
            "  _   _ _  _   _   _    \n",
            " | | | | \\| | /_\\ | |   \n",
            " | |_| | .` |/ _ \\| |__ \n",
            "  \\___/|_|\\_/_/ \\_\\____|\n",
            "                        \n",
            "\n",
            "    materia:  Analítica y Big Data\n",
            "  \n"
          ]
        }
      ],
      "source": [
        "def encabezado_simple_2(nombre_materia: str):\n",
        "  saludo = f\"\"\"\n",
        "\n",
        "  _   _ _  _   _   _\n",
        " | | | | \\| | /_\\ | |\n",
        " | |_| | .` |/ _ \\| |__\n",
        "  \\___/|_|\\_/_/ \\_\\____|\n",
        "\n",
        "\n",
        "    materia: {nombre_materia}\n",
        "  \"\"\"\n",
        "\n",
        "  return saludo\n",
        "\n",
        "valor_retornado = encabezado_simple_2(\"Analítica y Big Data\")\n",
        "print(valor_retornado)"
      ]
    },
    {
      "cell_type": "code",
      "execution_count": null,
      "metadata": {
        "colab": {
          "base_uri": "https://localhost:8080/"
        },
        "id": "QVTuMiizChJ_",
        "outputId": "060cd248-5432-4f3f-e3c2-7daeea406eff"
      },
      "outputs": [
        {
          "name": "stdout",
          "output_type": "stream",
          "text": [
            "\n",
            "\n",
            "  _   _ _  _   _   _    \n",
            " | | | | \\| | /_\\ | |   \n",
            " | |_| | .` |/ _ \\| |__ \n",
            "  \\___/|_|\\_/_/ \\_\\____|\n",
            "                        \n",
            "\n",
            "    materia: Ciencia de los datos\n",
            "  \n",
            "\n",
            "\n",
            "  _   _ _  _   _   _    \n",
            " | | | | \\| | /_\\ | |   \n",
            " | |_| | .` |/ _ \\| |__ \n",
            "  \\___/|_|\\_/_/ \\_\\____|\n",
            "                        \n",
            "\n",
            "    materia: Descriptiva\n",
            "  \n",
            "\n",
            "\n",
            "  _   _ _  _   _   _    \n",
            " | | | | \\| | /_\\ | |   \n",
            " | |_| | .` |/ _ \\| |__ \n",
            "  \\___/|_|\\_/_/ \\_\\____|\n",
            "                        \n",
            "\n",
            "    materia: Star Wars\n",
            "  \n"
          ]
        }
      ],
      "source": [
        "print(encabezado_simple_2(\"Ciencia de los datos\"))\n",
        "print(encabezado_simple_2(\"Descriptiva\"))\n",
        "print(encabezado_simple_2(\"Star Wars\"))"
      ]
    },
    {
      "cell_type": "markdown",
      "metadata": {
        "id": "gCPlsnL3D2Y8"
      },
      "source": [
        "## **CON PARÁMETROS - CON MÚLTIPLE RETORNO**"
      ]
    },
    {
      "cell_type": "markdown",
      "metadata": {
        "id": "Mm1QYV9GRBul"
      },
      "source": [
        "### **COMO TUPLA**"
      ]
    },
    {
      "cell_type": "code",
      "execution_count": null,
      "metadata": {
        "id": "MCxyWZRRD2z-"
      },
      "outputs": [],
      "source": [
        "def encabezado_simple_3(nombre_materia: str):\n",
        "  saludo = f\"\"\"\n",
        "\n",
        "  _   _ _  _   _   _\n",
        " | | | | \\| | /_\\ | |\n",
        " | |_| | .` |/ _ \\| |__\n",
        "  \\___/|_|\\_/_/ \\_\\____|\n",
        "\n",
        "\n",
        "    materia: {nombre_materia}\n",
        "  \"\"\"\n",
        "  print(saludo)\n",
        "  longitud = len(saludo)\n",
        "  nombre_mayuscula = nombre_materia.upper()\n",
        "  valor_pi = 3.1416\n",
        "\n",
        "  return valor_pi, longitud, nombre_mayuscula"
      ]
    },
    {
      "cell_type": "code",
      "execution_count": null,
      "metadata": {
        "colab": {
          "base_uri": "https://localhost:8080/"
        },
        "id": "foZmd6C9EPr4",
        "outputId": "7803bb6d-6b59-48b9-9739-2ae2e8b78f76"
      },
      "outputs": [
        {
          "name": "stdout",
          "output_type": "stream",
          "text": [
            "\n",
            "\n",
            "  _   _ _  _   _   _    \n",
            " | | | | \\| | /_\\ | |   \n",
            " | |_| | .` |/ _ \\| |__ \n",
            "  \\___/|_|\\_/_/ \\_\\____|\n",
            "                        \n",
            "\n",
            "    materia: Analítica y Big Data\n",
            "  \n",
            "(3.1416, 164, 'ANALÍTICA Y BIG DATA') <class 'tuple'>\n"
          ]
        }
      ],
      "source": [
        "valor_retornado = encabezado_simple_3(\"Analítica y Big Data\")\n",
        "print(valor_retornado, type(valor_retornado))"
      ]
    },
    {
      "cell_type": "code",
      "execution_count": null,
      "metadata": {
        "colab": {
          "base_uri": "https://localhost:8080/"
        },
        "id": "0L7v5wR9RnDS",
        "outputId": "9adbf747-bc6c-4cf4-a705-442e99a50026"
      },
      "outputs": [
        {
          "name": "stdout",
          "output_type": "stream",
          "text": [
            "todos los elementos :  (3.1416, 164, 'ANALÍTICA Y BIG DATA')\n",
            "invertir lista      :  ('ANALÍTICA Y BIG DATA', 164, 3.1416)\n",
            "valor por indice    :  3.1416\n",
            "ultimo valor        :  ANALÍTICA Y BIG DATA\n",
            "ultimo valor        :  (3.1416, 164)\n"
          ]
        }
      ],
      "source": [
        "print(\"todos los elementos : \", valor_retornado)\n",
        "print(\"invertir lista      : \", valor_retornado[::-1])\n",
        "print(\"valor por indice    : \", valor_retornado[0])\n",
        "print(\"ultimo valor        : \", valor_retornado[-1])\n",
        "print(\"ultimo valor        : \", valor_retornado[:2])"
      ]
    },
    {
      "cell_type": "markdown",
      "metadata": {
        "id": "-nfFoCWBRHQd"
      },
      "source": [
        "### **ASIGNACIÓN DE VARIABLES A CADA ELEMENTO DE LA TUPLA**\n",
        "\n",
        "> TIP: igual nro de retornos == nro de variables"
      ]
    },
    {
      "cell_type": "code",
      "execution_count": null,
      "metadata": {
        "colab": {
          "base_uri": "https://localhost:8080/"
        },
        "id": "27xvZLADE4hp",
        "outputId": "2419d217-d566-4857-9600-3dcf95df903b"
      },
      "outputs": [
        {
          "name": "stdout",
          "output_type": "stream",
          "text": [
            "\n",
            "\n",
            "  _   _ _  _   _   _    \n",
            " | | | | \\| | /_\\ | |   \n",
            " | |_| | .` |/ _ \\| |__ \n",
            "  \\___/|_|\\_/_/ \\_\\____|\n",
            "                        \n",
            "\n",
            "    materia: Analítica y Big Data\n",
            "  \n",
            "-- 3.1416\n",
            "*** 164\n",
            "@@@ ANALÍTICA Y BIG DATA\n"
          ]
        }
      ],
      "source": [
        "# igual nro de retornos == nro de variables\n",
        "pi_afuera, long_afuera, nombre_afuera = encabezado_simple_3(\"Analítica y Big Data\")\n",
        "print(\"--\",pi_afuera)\n",
        "print(\"***\",long_afuera)\n",
        "print(\"@@@\", nombre_afuera)"
      ]
    },
    {
      "cell_type": "markdown",
      "metadata": {
        "id": "TAfrsVRsRU02"
      },
      "source": [
        "### **RETORNOS PARCIALES**"
      ]
    },
    {
      "cell_type": "code",
      "execution_count": null,
      "metadata": {
        "colab": {
          "base_uri": "https://localhost:8080/"
        },
        "id": "Cx5ZY-63FON0",
        "outputId": "87df7dd6-1826-4a19-f522-d36d99592c7e"
      },
      "outputs": [
        {
          "name": "stdout",
          "output_type": "stream",
          "text": [
            "\n",
            "\n",
            "  _   _ _  _   _   _    \n",
            " | | | | \\| | /_\\ | |   \n",
            " | |_| | .` |/ _ \\| |__ \n",
            "  \\___/|_|\\_/_/ \\_\\____|\n",
            "                        \n",
            "\n",
            "    materia: Analítica y Big Data\n",
            "  \n",
            "-- 3.1416\n",
            "*** [164, 'ANALÍTICA Y BIG DATA']\n"
          ]
        }
      ],
      "source": [
        "pi_afuera, *resto = encabezado_simple_3(\"Analítica y Big Data\")\n",
        "print(\"--\",pi_afuera)\n",
        "print(\"***\",resto)"
      ]
    },
    {
      "cell_type": "markdown",
      "metadata": {
        "id": "-w8JohX0HITv"
      },
      "source": [
        "**EJEMLPO**"
      ]
    },
    {
      "cell_type": "code",
      "execution_count": null,
      "metadata": {
        "colab": {
          "base_uri": "https://localhost:8080/"
        },
        "id": "9GKQc4jQHMGY",
        "outputId": "dab9c4f9-7c38-4b7c-d178-95189f4ff5b8"
      },
      "outputs": [
        {
          "name": "stdout",
          "output_type": "stream",
          "text": [
            "\n",
            "\n",
            "  _   _ _  _   _   _    \n",
            " | | | | \\| | /_\\ | |   \n",
            " | |_| | .` |/ _ \\| |__ \n",
            "  \\___/|_|\\_/_/ \\_\\____|\n",
            "                        \n",
            "\n",
            "    materia: Ciencia de los datos\n",
            "  \n",
            "\n",
            "\n",
            "  _   _ _  _   _   _    \n",
            " | | | | \\| | /_\\ | |   \n",
            " | |_| | .` |/ _ \\| |__ \n",
            "  \\___/|_|\\_/_/ \\_\\____|\n",
            "                        \n",
            "\n",
            "    materia:  Analítica y Big Data\n",
            "  \n",
            "\n",
            "\n",
            "  _   _ _  _   _   _    \n",
            " | | | | \\| | /_\\ | |   \n",
            " | |_| | .` |/ _ \\| |__ \n",
            "  \\___/|_|\\_/_/ \\_\\____|\n",
            "                        \n",
            "\n",
            "    materia:  Analítica Descriptiva\n",
            "  \n"
          ]
        }
      ],
      "source": [
        "texto: str = \"Ciencia de los datos, Analítica y Big Data, Analítica Descriptiva\"\n",
        "\n",
        "for empresa in texto.split(\",\"):\n",
        "  encabezado_simple_3(empresa)"
      ]
    },
    {
      "cell_type": "markdown",
      "metadata": {
        "id": "C9SEq6sWfXb8"
      },
      "source": [
        "## **ARGS**\n",
        "\n",
        "`* --> tupla`\n",
        "\n",
        "Definir argumentos dinámicos"
      ]
    },
    {
      "cell_type": "code",
      "execution_count": null,
      "metadata": {
        "colab": {
          "base_uri": "https://localhost:8080/"
        },
        "id": "GCfPB2ozfWdY",
        "outputId": "4912569e-d30d-4b2e-8396-a3d4167eabef"
      },
      "outputs": [
        {
          "name": "stdout",
          "output_type": "stream",
          "text": [
            "<class 'tuple'>\n",
            "(1, 2, 3, 4, 5, 6, 7, 8, 9)\n",
            "(9, 8, 7, 6, 5, 4, 3, 2, 1)\n"
          ]
        }
      ],
      "source": [
        "def suma(*mimamamemima):\n",
        "  print(type(mimamamemima))\n",
        "  print(mimamamemima)\n",
        "  print(mimamamemima[::-1])\n",
        "\n",
        "suma(1,2,3,4,5,6,7,8,9)"
      ]
    },
    {
      "cell_type": "markdown",
      "metadata": {
        "id": "7PQvnVQegvwX"
      },
      "source": [
        "## **KARGS**\n",
        "\n",
        "`** --> diccionario`\n",
        "\n",
        "Definir argumentos dinámicos"
      ]
    },
    {
      "cell_type": "code",
      "execution_count": null,
      "metadata": {
        "colab": {
          "base_uri": "https://localhost:8080/"
        },
        "id": "3clIu9Rcdiyu",
        "outputId": "e0c2086a-ea52-42c8-c73d-f27cf1ba409c"
      },
      "outputs": [
        {
          "name": "stdout",
          "output_type": "stream",
          "text": [
            "<class 'dict'>\n",
            "{'nombre': 'Pepito', 'version': 1.0, 'cloud_provider': 'aws', 'sparkmaster': 'ss'}\n",
            "dict_keys(['nombre', 'version', 'cloud_provider', 'sparkmaster'])\n"
          ]
        }
      ],
      "source": [
        "def set_config(**data): # definir config\n",
        "  print(type(data))\n",
        "  print(data)\n",
        "  print(data.keys())\n",
        "\n",
        "set_config(nombre=\"Pepito\", version=1.0, cloud_provider=\"aws\", sparkmaster =\"ss\")"
      ]
    },
    {
      "cell_type": "code",
      "execution_count": null,
      "metadata": {
        "colab": {
          "base_uri": "https://localhost:8080/",
          "height": 53
        },
        "id": "9ectKnFli5C8",
        "outputId": "b9793010-0211-4b9a-83fd-cb88562634ad"
      },
      "outputs": [
        {
          "data": {
            "application/vnd.google.colaboratory.intrinsic+json": {
              "type": "string"
            },
            "text/plain": [
              "'\\nspark.master            spark://5.6.7.8:7077\\nspark.executor.memory   4g\\nspark.eventLog.enabled  true\\nspark.serializer        org.apache.spark.serializer.KryoSerializer\\n'"
            ]
          },
          "execution_count": 25,
          "metadata": {},
          "output_type": "execute_result"
        }
      ],
      "source": [
        "\"\"\"\n",
        "spark.master            spark://5.6.7.8:7077\n",
        "spark.executor.memory   4g\n",
        "spark.eventLog.enabled  true\n",
        "spark.serializer        org.apache.spark.serializer.KryoSerializer\n",
        "\"\"\""
      ]
    },
    {
      "cell_type": "code",
      "execution_count": null,
      "metadata": {
        "colab": {
          "base_uri": "https://localhost:8080/"
        },
        "id": "zbvTt_HOjBBK",
        "outputId": "a83b8f70-920c-40fe-83cb-ff046854c810"
      },
      "outputs": [
        {
          "name": "stdout",
          "output_type": "stream",
          "text": [
            "spark.master=spark://5.6.7.8:7077\n",
            "spark.executor.memory=4g\n",
            "spark.eventLog.enabled=true\n",
            "spark.serializer=org.apache.spark.serializer.KryoSerializer\n"
          ]
        }
      ],
      "source": [
        "def set_config(**data): # definir config\n",
        "  params = []\n",
        "  for key, value in data.items():\n",
        "    params.append(\"{}={}\".format(key.replace(\"_\", \".\"), value))\n",
        "  return \"\\n\".join(params)\n",
        "\n",
        "resultado = set_config(\n",
        "  spark_master='spark://5.6.7.8:7077',\n",
        "  spark_executor_memory='4g',\n",
        "  spark_eventLog_enabled='true',\n",
        "  spark_serializer ='org.apache.spark.serializer.KryoSerializer',\n",
        ")\n",
        "\n",
        "print(resultado)"
      ]
    },
    {
      "cell_type": "code",
      "execution_count": 6,
      "metadata": {},
      "outputs": [],
      "source": [
        "t = (1, 2, 3, 4, 5)\n",
        "\n",
        "def suma(*args):\n",
        "    frec = max(set(args), key=args.count)\n",
        "    return frec"
      ]
    },
    {
      "cell_type": "markdown",
      "metadata": {
        "id": "iHJDY99WkWPq"
      },
      "source": [
        "## **ARGUMENTOS OPCIONALES**"
      ]
    },
    {
      "cell_type": "code",
      "execution_count": null,
      "metadata": {
        "id": "GxUJOPlokYXx"
      },
      "outputs": [],
      "source": [
        "def opciones(nombre_app: str = \"por defecto\", version_app:float = 1.0):\n",
        "  print(f\"nombre_app : {nombre_app}\")\n",
        "  print(f\"version_app : {version_app}\")"
      ]
    },
    {
      "cell_type": "markdown",
      "metadata": {
        "id": "dCbQ1mE5ljyB"
      },
      "source": [
        "### **SIN ARGUMENTOS**"
      ]
    },
    {
      "cell_type": "code",
      "execution_count": null,
      "metadata": {
        "colab": {
          "base_uri": "https://localhost:8080/"
        },
        "id": "MZGawDhvllK3",
        "outputId": "aaa623ee-212a-4c09-f63e-18fb5c8498e7"
      },
      "outputs": [
        {
          "name": "stdout",
          "output_type": "stream",
          "text": [
            "nombre_app : por defecto\n",
            "version_app : 1.0\n"
          ]
        }
      ],
      "source": [
        "opciones()"
      ]
    },
    {
      "cell_type": "markdown",
      "metadata": {
        "id": "uvm5RNh0ljvV"
      },
      "source": [
        "### **POSICIONALMENTE**\n",
        "\n",
        "Nota: cuando trabajen posicionalmente, tener CUIDADO con el orden de los argumentos"
      ]
    },
    {
      "cell_type": "code",
      "execution_count": null,
      "metadata": {
        "colab": {
          "base_uri": "https://localhost:8080/"
        },
        "id": "Tdudp5ZOl-mg",
        "outputId": "680727e3-f50d-46b2-e263-f59cc36c16ac"
      },
      "outputs": [
        {
          "name": "stdout",
          "output_type": "stream",
          "text": [
            "nombre_app : yoda\n",
            "version_app : 1.0\n"
          ]
        }
      ],
      "source": [
        "opciones(\"yoda\")"
      ]
    },
    {
      "cell_type": "code",
      "execution_count": null,
      "metadata": {
        "colab": {
          "base_uri": "https://localhost:8080/"
        },
        "id": "f6t0VordmHZN",
        "outputId": "aa60c230-3214-4988-ab37-386af3d6949f"
      },
      "outputs": [
        {
          "name": "stdout",
          "output_type": "stream",
          "text": [
            "nombre_app : yoda\n",
            "version_app : 1.5\n"
          ]
        }
      ],
      "source": [
        "opciones(\"yoda\", 1.5)"
      ]
    },
    {
      "cell_type": "code",
      "execution_count": null,
      "metadata": {
        "colab": {
          "base_uri": "https://localhost:8080/"
        },
        "id": "m5JOJQOImMWn",
        "outputId": "18c37402-ed00-4e5d-f0cf-6edd5f7111f9"
      },
      "outputs": [
        {
          "name": "stdout",
          "output_type": "stream",
          "text": [
            "nombre_app : 1.5\n",
            "version_app : yoda\n"
          ]
        }
      ],
      "source": [
        "opciones(1.5, \"yoda\")"
      ]
    },
    {
      "cell_type": "markdown",
      "metadata": {
        "id": "OFdwlaZKljtD"
      },
      "source": [
        "### **LLAMADO POR ARGUMENTO**\n"
      ]
    },
    {
      "cell_type": "code",
      "execution_count": null,
      "metadata": {
        "colab": {
          "base_uri": "https://localhost:8080/"
        },
        "id": "Bs1IVwF3mp6R",
        "outputId": "f6926e7b-d63a-4fe8-dcea-2f450eda03ba"
      },
      "outputs": [
        {
          "name": "stdout",
          "output_type": "stream",
          "text": [
            "nombre_app : por defecto\n",
            "version_app : 0.32\n"
          ]
        }
      ],
      "source": [
        "opciones(version_app=0.32)"
      ]
    },
    {
      "cell_type": "code",
      "execution_count": null,
      "metadata": {
        "colab": {
          "base_uri": "https://localhost:8080/"
        },
        "id": "cLR-7Hu9mysi",
        "outputId": "38d060a2-735b-4f13-9a71-c0e755156c00"
      },
      "outputs": [
        {
          "name": "stdout",
          "output_type": "stream",
          "text": [
            "nombre_app : mauricio_app\n",
            "version_app : 0.32\n"
          ]
        }
      ],
      "source": [
        "opciones(version_app=0.32,nombre_app=\"mauricio_app\")"
      ]
    },
    {
      "cell_type": "markdown",
      "metadata": {
        "id": "t2G5KCwpnK0j"
      },
      "source": [
        "## **COMBINANDO TODOS**\n",
        "\n",
        "\n"
      ]
    },
    {
      "cell_type": "code",
      "execution_count": null,
      "metadata": {
        "id": "HWLXlDH5nKV_"
      },
      "outputs": [],
      "source": [
        "def to_csv(file_name: str, *tags, delimeter=\",\", **extra_config):\n",
        "  print(f\"file_name : {file_name}\")\n",
        "  print(f\"tags : {tags}\")\n",
        "  print(f\"extra_config : {extra_config}\")\n",
        "  print(f\"delimeter : {delimeter}\")\n",
        "  print(\"-\" * 80)\n",
        "  print([tag.lower() for tag in tags  ]) # for comp siempre retornan una lista\n",
        "  print(\"\\n\".join([tag.lower() for tag in tags  ]))"
      ]
    },
    {
      "cell_type": "markdown",
      "metadata": {
        "id": "OI4s1qjhot3i"
      },
      "source": [
        "### **POSICIONALMENTE**"
      ]
    },
    {
      "cell_type": "code",
      "execution_count": null,
      "metadata": {
        "colab": {
          "base_uri": "https://localhost:8080/",
          "height": 144
        },
        "id": "_JfBPUYHo1cz",
        "outputId": "9519044e-c86e-44b5-c1a0-dd9c89894f4b"
      },
      "outputs": [
        {
          "ename": "TypeError",
          "evalue": "to_csv() missing 1 required positional argument: 'file_name'",
          "output_type": "error",
          "traceback": [
            "\u001b[0;31m---------------------------------------------------------------------------\u001b[0m",
            "\u001b[0;31mTypeError\u001b[0m                                 Traceback (most recent call last)",
            "\u001b[0;32m<ipython-input-34-4f2dc98e969f>\u001b[0m in \u001b[0;36m<cell line: 0>\u001b[0;34m()\u001b[0m\n\u001b[0;32m----> 1\u001b[0;31m \u001b[0mto_csv\u001b[0m\u001b[0;34m(\u001b[0m\u001b[0;34m)\u001b[0m\u001b[0;34m\u001b[0m\u001b[0;34m\u001b[0m\u001b[0m\n\u001b[0m",
            "\u001b[0;31mTypeError\u001b[0m: to_csv() missing 1 required positional argument: 'file_name'"
          ]
        }
      ],
      "source": [
        "to_csv()"
      ]
    },
    {
      "cell_type": "code",
      "execution_count": null,
      "metadata": {
        "colab": {
          "base_uri": "https://localhost:8080/"
        },
        "id": "a8mbShf_ozbZ",
        "outputId": "cf4de51b-cc5a-4c88-c00b-a2857c19e003"
      },
      "outputs": [
        {
          "name": "stdout",
          "output_type": "stream",
          "text": [
            "file_name : c:/documentos/demo.csv\n",
            "tags : ()\n",
            "extra_config : {}\n",
            "delimeter : ,\n",
            "--------------------------------------------------------------------------------\n",
            "[]\n",
            "\n"
          ]
        }
      ],
      "source": [
        "to_csv(\"c:/documentos/demo.csv\")"
      ]
    },
    {
      "cell_type": "markdown",
      "metadata": {
        "id": "YXU-2WjAo79G"
      },
      "source": [
        "### **LISTA DINÁMICAMENTE**\n",
        "\n"
      ]
    },
    {
      "cell_type": "code",
      "execution_count": null,
      "metadata": {
        "colab": {
          "base_uri": "https://localhost:8080/"
        },
        "id": "4EzHwIHko7hf",
        "outputId": "b55c96e2-e80f-4531-86e8-e59ea1ad729c"
      },
      "outputs": [
        {
          "name": "stdout",
          "output_type": "stream",
          "text": [
            "file_name : c:/documentos/demo.csv\n",
            "tags : ('tag1', 'tAg2', 'TAG3')\n",
            "extra_config : {'pepito': 1, 'julanito': 2}\n",
            "delimeter : ,\n",
            "--------------------------------------------------------------------------------\n",
            "['tag1', 'tag2', 'tag3']\n",
            "tag1\n",
            "tag2\n",
            "tag3\n"
          ]
        }
      ],
      "source": [
        "to_csv(\"c:/documentos/demo.csv\",\n",
        "  \"tag1\",\n",
        "  \"tAg2\",\n",
        "  \"TAG3\",\n",
        "  pepito=1,\n",
        "  julanito=2\n",
        ")"
      ]
    },
    {
      "cell_type": "markdown",
      "metadata": {
        "id": "xDQWnMJwueuY"
      },
      "source": [
        "## **FUNCIONES COMO OBJETOS**"
      ]
    },
    {
      "cell_type": "code",
      "execution_count": null,
      "metadata": {
        "id": "053ljaHzun_i"
      },
      "outputs": [],
      "source": [
        "def suma_dinamica(*valores: list):\n",
        "  print(f\"longitud --> {len(valores)}\")\n",
        "  print(f\"total    --> {sum(valores)}\")"
      ]
    },
    {
      "cell_type": "markdown",
      "metadata": {
        "id": "ijUo7Zyiu_ld"
      },
      "source": [
        "### **ASIGNAR A VARIABLES**"
      ]
    },
    {
      "cell_type": "code",
      "execution_count": null,
      "metadata": {
        "colab": {
          "base_uri": "https://localhost:8080/"
        },
        "id": "M6BG7OW_vCl_",
        "outputId": "90f5a734-197e-49a7-833f-129c7e7fe429"
      },
      "outputs": [
        {
          "name": "stdout",
          "output_type": "stream",
          "text": [
            "Forma original : --\n",
            "longitud --> 4\n",
            "total    --> 10\n",
            "********************\n",
            "Forma alias : --\n",
            "longitud --> 4\n",
            "total    --> 10\n"
          ]
        }
      ],
      "source": [
        "datos = suma_dinamica\n",
        "\n",
        "print(\"Forma original : --\")\n",
        "suma_dinamica(1, 2, 3, 4)\n",
        "print(\"*\" * 20)\n",
        "print(\"Forma alias : --\")\n",
        "datos(1, 2, 3, 4)"
      ]
    },
    {
      "cell_type": "markdown",
      "metadata": {
        "id": "HQOLveq0WKyr"
      },
      "source": [
        "### **VER NOMBRE ORIGINAL**"
      ]
    },
    {
      "cell_type": "code",
      "execution_count": null,
      "metadata": {
        "colab": {
          "base_uri": "https://localhost:8080/"
        },
        "id": "FPz2pPGVvgkF",
        "outputId": "04324d24-a430-40c9-b820-3931b9e0dfcd"
      },
      "outputs": [
        {
          "name": "stdout",
          "output_type": "stream",
          "text": [
            "suma_dinamica\n"
          ]
        }
      ],
      "source": [
        "# metodos magicos, ya estan definidos | el nombre de la funcion real se obtiene con __name__\n",
        "print(datos.__name__)"
      ]
    },
    {
      "cell_type": "code",
      "execution_count": null,
      "metadata": {
        "colab": {
          "base_uri": "https://localhost:8080/"
        },
        "id": "TLmfh9vNwVbp",
        "outputId": "cf5b7906-abab-4445-cdf0-f5737f5f17f9"
      },
      "outputs": [
        {
          "data": {
            "text/plain": [
              "function"
            ]
          },
          "execution_count": 23,
          "metadata": {},
          "output_type": "execute_result"
        }
      ],
      "source": [
        "type(datos)"
      ]
    },
    {
      "cell_type": "code",
      "execution_count": null,
      "metadata": {
        "colab": {
          "base_uri": "https://localhost:8080/"
        },
        "id": "6MxEdGL3wTad",
        "outputId": "090e9d25-3f99-4ae7-ce09-d512882efac5"
      },
      "outputs": [
        {
          "name": "stdout",
          "output_type": "stream",
          "text": [
            "Forma original : --\n",
            "ejecutando función suma_dinamica\n",
            "longitud --> 4\n",
            "total    --> 10\n",
            "********************\n",
            "Forma alias : --\n",
            "ejecutando función suma_dinamica\n",
            "longitud --> 4\n",
            "total    --> 10\n"
          ]
        }
      ],
      "source": [
        "def ejecutador(funcion):\n",
        "  print(f\"ejecutando función {funcion.__name__}\")\n",
        "  funcion(1,2,3,4)\n",
        "\n",
        "print(\"Forma original : --\")\n",
        "ejecutador(suma_dinamica)\n",
        "print(\"*\" *20)\n",
        "print(\"Forma alias : --\")\n",
        "ejecutador(datos)"
      ]
    },
    {
      "cell_type": "code",
      "execution_count": null,
      "metadata": {
        "colab": {
          "base_uri": "https://localhost:8080/"
        },
        "id": "dgz4478gxVm_",
        "outputId": "454640e5-7733-4245-d04c-383c2533b1dc"
      },
      "outputs": [
        {
          "name": "stdout",
          "output_type": "stream",
          "text": [
            "Forma original : --\n",
            "ejecutando función suma_dinamica\n",
            "(1, 2, 3, 4)\n",
            "longitud --> 4\n",
            "total    --> 10\n",
            "********************\n",
            "Forma alias : --\n",
            "ejecutando función suma_dinamica\n",
            "(1, 2, 3, 4)\n",
            "longitud --> 4\n",
            "total    --> 10\n"
          ]
        }
      ],
      "source": [
        "def ejecutador_2(funcion, *valores_a_sumar):\n",
        "  print(f\"ejecutando función {funcion.__name__}\")\n",
        "  print(valores_a_sumar)\n",
        "  funcion(*valores_a_sumar)\n",
        "\n",
        "print(\"Forma original : --\")\n",
        "ejecutador_2(suma_dinamica,1,2,3,4)\n",
        "print(\"*\" *20)\n",
        "print(\"Forma alias : --\")\n",
        "ejecutador_2(datos,1,2,3,4)"
      ]
    },
    {
      "cell_type": "markdown",
      "metadata": {
        "id": "p0tPunuFy2S2"
      },
      "source": [
        "### **COMBINAR CON ESTRUCTURAS DE DATOS**"
      ]
    },
    {
      "cell_type": "markdown",
      "metadata": {
        "id": "Xr93x0kOW4YO"
      },
      "source": [
        "#### **LISTA**"
      ]
    },
    {
      "cell_type": "code",
      "execution_count": null,
      "metadata": {
        "colab": {
          "base_uri": "https://localhost:8080/",
          "height": 35
        },
        "id": "YM5yOFc7zUtA",
        "outputId": "7bb0345b-e89f-4ae5-f83a-87a656552586"
      },
      "outputs": [
        {
          "data": {
            "application/vnd.google.colaboratory.intrinsic+json": {
              "type": "string"
            },
            "text/plain": [
              "'sssssssasdeasdsssssssasdeasdsssssssasdeasdsssssssasdeasdsssssssasdeasdsssssssasdeasdsssssssasdeasdsssssssasdeasdsssssssasdeasdsssssssasdeasd'"
            ]
          },
          "execution_count": 41,
          "metadata": {},
          "output_type": "execute_result"
        }
      ],
      "source": [
        "def estandarizar_multiplicar_10(texto:str):\n",
        "  return texto.lower() * 10\n",
        "\n",
        "estandarizar_multiplicar_10(\"sSSSsssasdeasd\")"
      ]
    },
    {
      "cell_type": "code",
      "execution_count": null,
      "metadata": {
        "colab": {
          "base_uri": "https://localhost:8080/"
        },
        "id": "zT75dLCYy8GY",
        "outputId": "2b78e2ff-6da7-4e6b-8b33-045c68051212"
      },
      "outputs": [
        {
          "name": "stdout",
          "output_type": "stream",
          "text": [
            "PRUEBA\n",
            "prueba\n",
            "pruebapruebapruebapruebapruebapruebapruebapruebapruebaprueba\n"
          ]
        }
      ],
      "source": [
        "def ejecutador_3(lista_funciones: list, texto_test: str = \"PruEbA\"):\n",
        "  for funcion in lista_funciones:\n",
        "    print(funcion(texto_test))\n",
        "\n",
        "lista_funciones = [str.upper, str.lower]\n",
        "\n",
        "\n",
        "lista_funciones.append(estandarizar_multiplicar_10)\n",
        "ejecutador_3(lista_funciones)"
      ]
    },
    {
      "cell_type": "markdown",
      "metadata": {
        "id": "cBXVxZbKW99B"
      },
      "source": [
        "#### **DICCIONARIO**"
      ]
    },
    {
      "cell_type": "code",
      "execution_count": null,
      "metadata": {
        "id": "GnnvTqIR0zDU"
      },
      "outputs": [],
      "source": [
        "datos = {\n",
        "    \"mi_funcion\": estandarizar_multiplicar_10\n",
        "}"
      ]
    },
    {
      "cell_type": "code",
      "execution_count": null,
      "metadata": {
        "colab": {
          "base_uri": "https://localhost:8080/"
        },
        "id": "Gh8NAZ3108Vz",
        "outputId": "b10982fa-7378-4337-f8e2-7d8a26ee7db0"
      },
      "outputs": [
        {
          "data": {
            "text/plain": [
              "dict_keys(['mi_funcion'])"
            ]
          },
          "execution_count": 32,
          "metadata": {},
          "output_type": "execute_result"
        }
      ],
      "source": [
        "datos.keys()"
      ]
    },
    {
      "cell_type": "code",
      "execution_count": null,
      "metadata": {
        "colab": {
          "base_uri": "https://localhost:8080/"
        },
        "id": "G8nnuNCN0--S",
        "outputId": "fbbb75b2-db84-4a00-a495-36718f80cfbd"
      },
      "outputs": [
        {
          "data": {
            "text/plain": [
              "dict_values([<function estandarizar_multiplicar_10 at 0x7dee4b4e7e20>])"
            ]
          },
          "execution_count": 33,
          "metadata": {},
          "output_type": "execute_result"
        }
      ],
      "source": [
        "datos.values()"
      ]
    },
    {
      "cell_type": "code",
      "execution_count": null,
      "metadata": {
        "colab": {
          "base_uri": "https://localhost:8080/",
          "height": 35
        },
        "id": "5Dv7-A5Z1EmD",
        "outputId": "8f6ffa65-c247-4752-d29a-b0bdbdb36e62"
      },
      "outputs": [
        {
          "data": {
            "application/vnd.google.colaboratory.intrinsic+json": {
              "type": "string"
            },
            "text/plain": [
              "'holaholaholaholaholaholaholaholaholahola'"
            ]
          },
          "execution_count": 34,
          "metadata": {},
          "output_type": "execute_result"
        }
      ],
      "source": [
        "datos[\"mi_funcion\"](\"hola\")"
      ]
    },
    {
      "cell_type": "code",
      "execution_count": null,
      "metadata": {
        "colab": {
          "base_uri": "https://localhost:8080/"
        },
        "id": "4z33GMbq189h",
        "outputId": "4d24457e-7ecb-4cd2-9363-bf13efa41194"
      },
      "outputs": [
        {
          "data": {
            "text/plain": [
              "138462366859840"
            ]
          },
          "execution_count": 35,
          "metadata": {},
          "output_type": "execute_result"
        }
      ],
      "source": [
        "id(datos)"
      ]
    },
    {
      "cell_type": "code",
      "execution_count": null,
      "metadata": {
        "colab": {
          "base_uri": "https://localhost:8080/",
          "height": 35
        },
        "id": "pNz0Zx-32LDg",
        "outputId": "014d8a6e-efe0-4799-d37d-988cf7468a67"
      },
      "outputs": [
        {
          "data": {
            "application/vnd.google.colaboratory.intrinsic+json": {
              "type": "string"
            },
            "text/plain": [
              "'estandarizar_multiplicar_10'"
            ]
          },
          "execution_count": 36,
          "metadata": {},
          "output_type": "execute_result"
        }
      ],
      "source": [
        "estandarizar_multiplicar_10.__name__"
      ]
    },
    {
      "cell_type": "markdown",
      "metadata": {
        "id": "aWi6eqUqmEuR"
      },
      "source": [
        "## **FUNCIONES ANIDADAS**"
      ]
    },
    {
      "cell_type": "markdown",
      "metadata": {
        "id": "q6W5CiIN1fYl"
      },
      "source": [
        "### **NORMALES**"
      ]
    },
    {
      "cell_type": "code",
      "execution_count": null,
      "metadata": {
        "colab": {
          "base_uri": "https://localhost:8080/"
        },
        "id": "czyG2m78zNjt",
        "outputId": "973549d2-a3bf-4044-b574-bd8d31c5efcb"
      },
      "outputs": [
        {
          "name": "stdout",
          "output_type": "stream",
          "text": [
            "es una mujer, y su nombre es: prueba dummy - llamado interno\n",
            "<class 'function'>\n",
            "<function obtener_tipo_salud.<locals>.mujer at 0x7e0edf556520>\n",
            "mujer\n"
          ]
        }
      ],
      "source": [
        "def obtener_tipo_salud(genero: str) -> str:\n",
        "  funcion_devolver  = None\n",
        "  def mujer(nombre):\n",
        "    return f\"es una mujer, y su nombre es: {nombre}\"\n",
        "\n",
        "  def hombre(nombre):\n",
        "    return f\"es un hombre, y su nombre es: {nombre}\"\n",
        "\n",
        "  if genero == \"F\":\n",
        "    funcion_devolver = mujer\n",
        "    print(mujer(\"prueba dummy - llamado interno\"))\n",
        "  else:\n",
        "    funcion_devolver = hombre\n",
        "\n",
        "  return funcion_devolver\n",
        "\n",
        "#1. Está retornando netamente la función a utilizar\n",
        "resultado = obtener_tipo_salud(\"F\")\n",
        "print(type(resultado))\n",
        "print(resultado)\n",
        "print(resultado.__name__)"
      ]
    },
    {
      "cell_type": "code",
      "execution_count": null,
      "metadata": {
        "colab": {
          "base_uri": "https://localhost:8080/"
        },
        "id": "NKtp6SaV02jz",
        "outputId": "f9dda131-3c16-4c96-a2ed-13eb97e14d0a"
      },
      "outputs": [
        {
          "name": "stdout",
          "output_type": "stream",
          "text": [
            "<class 'str'>\n",
            "es una mujer, y su nombre es: PEPITO\n"
          ]
        }
      ],
      "source": [
        "#2. Yo estoy llamando la función que me devolvió el punto 1 y la estoy ejecutando\n",
        "resultado2 = resultado(\"PEPITO\")\n",
        "print(type(resultado2))\n",
        "print(resultado2)"
      ]
    },
    {
      "cell_type": "markdown",
      "metadata": {
        "id": "5ozalbm31i4b"
      },
      "source": [
        "### **EJECUCIÓN EMBEBIDA**"
      ]
    },
    {
      "cell_type": "code",
      "execution_count": null,
      "metadata": {
        "colab": {
          "base_uri": "https://localhost:8080/",
          "height": 35
        },
        "id": "KpMZQIJF1qNo",
        "outputId": "6f17b703-dcb7-4756-857e-e5539d3e6341"
      },
      "outputs": [
        {
          "data": {
            "application/vnd.google.colaboratory.intrinsic+json": {
              "type": "string"
            },
            "text/plain": [
              "'es una mujer, y su nombre es: Maria Alejandra'"
            ]
          },
          "execution_count": 3,
          "metadata": {},
          "output_type": "execute_result"
        }
      ],
      "source": [
        "def obtener_tipo() -> str:\n",
        "  def mujer(nombre):\n",
        "    return f\"es una mujer, y su nombre es: {nombre}\"\n",
        "  return mujer\n",
        "\n",
        "obtener_tipo()(\"Maria Alejandra\")"
      ]
    },
    {
      "cell_type": "code",
      "execution_count": null,
      "metadata": {
        "colab": {
          "base_uri": "https://localhost:8080/"
        },
        "id": "Lfa26GozNTny",
        "outputId": "9d5613af-c989-48b1-9406-c5045c96ec8e"
      },
      "outputs": [
        {
          "name": "stdout",
          "output_type": "stream",
          "text": [
            "(<function obtener_tipo_respuesta.<locals>.mujer at 0x7e0edf5577e0>, <function obtener_tipo_respuesta.<locals>.<lambda> at 0x7e0edf556d40>)\n"
          ]
        }
      ],
      "source": [
        "# Respuesta a la pregunta:\n",
        "\n",
        "def obtener_tipo_respuesta() -> str:\n",
        "  def mujer(nombre):\n",
        "    return f\"es una mujer, y su nombre es: {nombre}\"\n",
        "  return mujer, lambda x, y: x**y\n",
        "\n",
        "retornado = obtener_tipo_respuesta()\n",
        "print(retornado)"
      ]
    },
    {
      "cell_type": "code",
      "execution_count": null,
      "metadata": {
        "colab": {
          "base_uri": "https://localhost:8080/",
          "height": 35
        },
        "id": "kSVSJeJ9NoTP",
        "outputId": "b47aa7c2-9bc4-4de9-df95-d39c1acff252"
      },
      "outputs": [
        {
          "data": {
            "application/vnd.google.colaboratory.intrinsic+json": {
              "type": "string"
            },
            "text/plain": [
              "'es una mujer, y su nombre es: elizabeth'"
            ]
          },
          "execution_count": 5,
          "metadata": {},
          "output_type": "execute_result"
        }
      ],
      "source": [
        "obtener_tipo_respuesta()[0](\"elizabeth\")"
      ]
    },
    {
      "cell_type": "code",
      "execution_count": null,
      "metadata": {
        "colab": {
          "base_uri": "https://localhost:8080/"
        },
        "id": "Yn7t56tVN9qI",
        "outputId": "83a840eb-ade0-4547-eba7-2209e482685c"
      },
      "outputs": [
        {
          "data": {
            "text/plain": [
              "25"
            ]
          },
          "execution_count": 6,
          "metadata": {},
          "output_type": "execute_result"
        }
      ],
      "source": [
        "obtener_tipo_respuesta()[1](5,2)"
      ]
    },
    {
      "cell_type": "code",
      "execution_count": null,
      "metadata": {
        "id": "Bd_fwPPpORlr"
      },
      "outputs": [],
      "source": [
        "fun_1, fun_2 = obtener_tipo_respuesta()"
      ]
    },
    {
      "cell_type": "markdown",
      "metadata": {
        "id": "lhu137kAZVVG"
      },
      "source": []
    },
    {
      "cell_type": "code",
      "execution_count": null,
      "metadata": {
        "colab": {
          "base_uri": "https://localhost:8080/"
        },
        "id": "VEGO3lyvOXHv",
        "outputId": "354f57a9-b4f2-400b-e78d-ae0b020250d5"
      },
      "outputs": [
        {
          "data": {
            "text/plain": [
              "25"
            ]
          },
          "execution_count": 8,
          "metadata": {},
          "output_type": "execute_result"
        }
      ],
      "source": [
        "fun_2(5,2)"
      ]
    },
    {
      "cell_type": "markdown",
      "metadata": {
        "id": "yfSUMxRSmEr3"
      },
      "source": [
        "## **CLOSURES**\n",
        "\n",
        "Significa que una función de cierre `recuerda` y puede utilizar variables de su entorno padre"
      ]
    },
    {
      "cell_type": "code",
      "execution_count": null,
      "metadata": {
        "id": "uKAZ6XPK2iI1"
      },
      "outputs": [],
      "source": [
        "def semilla(valor_semilla):\n",
        "  def ejecutador(numero):\n",
        "    return numero + valor_semilla\n",
        "  return ejecutador"
      ]
    },
    {
      "cell_type": "code",
      "execution_count": null,
      "metadata": {
        "colab": {
          "base_uri": "https://localhost:8080/"
        },
        "id": "om-AYMUR3KRK",
        "outputId": "bd9f4111-8711-47cc-c9be-295105b7bed1"
      },
      "outputs": [
        {
          "name": "stdout",
          "output_type": "stream",
          "text": [
            "<class 'function'>\n",
            "<function semilla.<locals>.ejecutador at 0x7e0edf557c40>\n",
            "ejecutador\n"
          ]
        }
      ],
      "source": [
        "set_seed = semilla(0.001)\n",
        "print(type(set_seed))\n",
        "print(set_seed)\n",
        "print(set_seed.__name__)"
      ]
    },
    {
      "cell_type": "code",
      "execution_count": null,
      "metadata": {
        "colab": {
          "base_uri": "https://localhost:8080/"
        },
        "id": "l_r94m6c3d3M",
        "outputId": "1c176a37-3654-4f38-92b3-08f46d02bc33"
      },
      "outputs": [
        {
          "name": "stdout",
          "output_type": "stream",
          "text": [
            "5.001\n",
            "1.001\n",
            "2.501\n"
          ]
        }
      ],
      "source": [
        "print(set_seed(5))\n",
        "print(set_seed(1))\n",
        "print(set_seed(2.5))"
      ]
    },
    {
      "cell_type": "markdown",
      "metadata": {
        "id": "GL9m2lu9n9nk"
      },
      "source": [
        "## **DECORADORES**\n",
        "\n",
        "Lo podemos ver de dos maneras:\n",
        "\n",
        "\n",
        "1.   Agregar extensibilidad a una funcionalidad\n",
        "2.   Proporciona facilidad\n",
        "\n",
        "\n",
        "\n",
        "`@ = decorador = es una función`\n",
        "\n",
        "\n",
        "\n",
        "```python\n",
        "@route('/names')\n",
        "def hello_world():\n",
        "  return 'Hello, World!'\n",
        "```\n",
        "explicación\n",
        "```python\n",
        "aplicar lógica antes de llamar la función\n",
        "def hello_world():\n",
        "  return 'Hello, World!'\n",
        "aplicar lógica después de ejecutar la función\n",
        "```\n"
      ]
    },
    {
      "cell_type": "markdown",
      "metadata": {
        "id": "Pl36TfF5mEpk"
      },
      "source": [
        "### **DECORADORES SIMPLES**"
      ]
    },
    {
      "cell_type": "code",
      "execution_count": null,
      "metadata": {
        "colab": {
          "base_uri": "https://localhost:8080/"
        },
        "id": "mZxe8lbA706B",
        "outputId": "8a2ca22e-d0ad-4da3-8761-49642fe4433d"
      },
      "outputs": [
        {
          "name": "stdout",
          "output_type": "stream",
          "text": [
            "2\n",
            "3\n",
            "10\n"
          ]
        }
      ],
      "source": [
        "# La función original| función que queremos extender o simplicar\n",
        "# ANTES\n",
        "def suma_entera(numero_1: int, numero_2: int) -> int:\n",
        "  return numero_1 + numero_2\n",
        "\n",
        "print(suma_entera(1,1))\n",
        "print(suma_entera(1,2))\n",
        "print(suma_entera(5,5))"
      ]
    },
    {
      "cell_type": "code",
      "execution_count": null,
      "metadata": {
        "id": "JChfiAAC8txL"
      },
      "outputs": [],
      "source": [
        "# decorador para extender la funcionalidad\n",
        "def ext_suma_sin_argumentos(funcion):\n",
        "  def funcion_que_extiende(*args, **kwargs):\n",
        "    # lógica antes de\n",
        "    print(f\" funcion a extender: {funcion.__name__}\")\n",
        "    print(\"------ ejecución antes de la función ---\")\n",
        "    resultado = funcion(*args, **kwargs) # función es suma_entera, resultado = numero_1 + numero_2\n",
        "    print(f\"----- resultado: {resultado}\")\n",
        "    print(\"------ ejecución después de la función ---\")\n",
        "    return resultado\n",
        "  return funcion_que_extiende\n",
        "    # lógica después de"
      ]
    },
    {
      "cell_type": "code",
      "execution_count": null,
      "metadata": {
        "colab": {
          "base_uri": "https://localhost:8080/"
        },
        "id": "QTbHcxKl-Nr1",
        "outputId": "e0d6e83b-125e-48d4-c570-41d5f36cf530"
      },
      "outputs": [
        {
          "name": "stdout",
          "output_type": "stream",
          "text": [
            " funcion a extender: suma_entera\n",
            "------ ejecución antes de la función ---\n",
            "----- resultado: 2\n",
            "------ ejecución después de la función ---\n",
            "2 <class 'int'>\n"
          ]
        }
      ],
      "source": [
        "# DESPUÉS\n",
        "@ext_suma_sin_argumentos\n",
        "def suma_entera(numero_1: int, numero_2: int) -> int:\n",
        "  return numero_1 + numero_2\n",
        "resultado = suma_entera(1,1)\n",
        "print(resultado, type(resultado))\n"
      ]
    },
    {
      "cell_type": "markdown",
      "metadata": {
        "id": "TOOF0CUOmEm_"
      },
      "source": [
        "### **DECORADORES CON ARGUMENTOS**"
      ]
    },
    {
      "cell_type": "code",
      "execution_count": null,
      "metadata": {
        "id": "Nl3vdW5N_vm7"
      },
      "outputs": [],
      "source": [
        "# Crear decorador con argumentos | clave es funciones anidadas de 3 niveles\n",
        "def ext_suma_con_argumentos(delimitador: str = \"-\", cantidad: int = 5):\n",
        "  def ext_suma_con_argumentos(funcion):\n",
        "    def funcion_que_extiende(*args, **kwargs):\n",
        "      # lógica antes de\n",
        "      delimitacion = delimitador * cantidad\n",
        "      print(f\"{delimitacion} funcion a extender: {funcion.__name__} {delimitacion}\")\n",
        "      print(f\"{delimitacion} ejecución antes de la función {delimitacion}\")\n",
        "      resultado = funcion(*args, **kwargs) # función es suma_entera, resultado = numero_1 + numero_2\n",
        "      print(f\"{delimitacion} resultado: {resultado} {delimitacion}\")\n",
        "      print(f\"{delimitacion} ejecución después de la función {delimitacion}\")\n",
        "      return resultado\n",
        "    return funcion_que_extiende\n",
        "  return ext_suma_con_argumentos"
      ]
    },
    {
      "cell_type": "code",
      "execution_count": null,
      "metadata": {
        "colab": {
          "base_uri": "https://localhost:8080/"
        },
        "id": "SPkKMIF9A0Ny",
        "outputId": "8898c040-b2d5-4a22-afa8-9a5a373fb757"
      },
      "outputs": [
        {
          "name": "stdout",
          "output_type": "stream",
          "text": [
            "@@@@@@@ funcion a extender: suma_entera @@@@@@@\n",
            "@@@@@@@ ejecución antes de la función @@@@@@@\n",
            "@@@@@@@ resultado: 2 @@@@@@@\n",
            "@@@@@@@ ejecución después de la función @@@@@@@\n",
            "2\n"
          ]
        }
      ],
      "source": [
        "@ext_suma_con_argumentos(cantidad = 7, delimitador=\"@\")\n",
        "def suma_entera(numero_1: int, numero_2: int) -> int:\n",
        "  return numero_1 + numero_2\n",
        "resultado = suma_entera(1,1)\n",
        "print(resultado)"
      ]
    },
    {
      "cell_type": "markdown",
      "metadata": {
        "id": "_RNog_5amEka"
      },
      "source": [
        "## **LAMBDAS**\n",
        "en programación (MIRANDO DOCS) cuando vean `[]` quiere decir que es opcional\n",
        "\n",
        "`lambda [arg1,arg2,argn]: acciones`"
      ]
    },
    {
      "cell_type": "markdown",
      "metadata": {
        "id": "O1JpXR2FDNv9"
      },
      "source": [
        "### **ANÓNIMA**"
      ]
    },
    {
      "cell_type": "code",
      "execution_count": null,
      "metadata": {
        "colab": {
          "base_uri": "https://localhost:8080/"
        },
        "id": "T4vm--zOCbtE",
        "outputId": "0593db59-d2c7-4cdf-8d36-2541967bcd3c"
      },
      "outputs": [
        {
          "name": "stdout",
          "output_type": "stream",
          "text": [
            "el valor del número al cuadrado es:  25\n"
          ]
        }
      ],
      "source": [
        "print(\"el valor del número al cuadrado es: \", (lambda numero: numero **2)(5))"
      ]
    },
    {
      "cell_type": "markdown",
      "metadata": {
        "id": "iAUHDLNND8HZ"
      },
      "source": [
        "### **DECLARADA**"
      ]
    },
    {
      "cell_type": "code",
      "execution_count": null,
      "metadata": {
        "colab": {
          "base_uri": "https://localhost:8080/"
        },
        "id": "DHD8TbSDD6F1",
        "outputId": "3c6cd25e-acc0-427d-e222-6e399c326c8f"
      },
      "outputs": [
        {
          "name": "stdout",
          "output_type": "stream",
          "text": [
            "el valor del número al cuadrado es:  25\n"
          ]
        }
      ],
      "source": [
        "elevar_numero_al_cuadrado = lambda numero: numero **2\n",
        "print(\"el valor del número al cuadrado es: \", elevar_numero_al_cuadrado(5))"
      ]
    },
    {
      "cell_type": "markdown",
      "metadata": {
        "id": "qeYCENYAmEh9"
      },
      "source": [
        "## **YIELD (GENERATOR)**\n",
        "\n",
        "`yield` es una palabra clave que se utiliza en la definición de generadores, una forma especial de crear iteradores. Un generador es una función que produce valores de forma `perezosa (lazy)` o `bajo demanda` en lugar de generar todos los valores de antemano y almacenarlos en la memoria.\n",
        "\n",
        "<p><img src=\"https://miro.medium.com/v2/resize:fit:720/format:webp/1*iBgdO1ukASeyaLtSv3Jpnw.png\" alt=\"\" width=\"800\" height=\"300\" /></p>\n",
        "\n"
      ]
    },
    {
      "cell_type": "markdown",
      "metadata": {
        "id": "nkYMMU1XF2WM"
      },
      "source": [
        "\n",
        "\n",
        "\n",
        "1.   Ejecutar cuando quiera\n",
        "2.   Iterar e ir evaluando valores afuera de la función\n",
        "\n",
        "\n",
        "```\n",
        "función que procesa\n",
        "  1.000.000 de registros | cascada\n",
        "utilizar afuera los resultados de la función\n",
        "```\n",
        "\n",
        "NOTA: el `return` cuando lo usamos con `yield` lo ideal no es devolver objetos sino estados\n",
        "\n"
      ]
    },
    {
      "cell_type": "markdown",
      "metadata": {
        "id": "Plf40gqVHge6"
      },
      "source": [
        "### **YIELD ELEMENTAL**"
      ]
    },
    {
      "cell_type": "code",
      "execution_count": null,
      "metadata": {
        "id": "Xgs7WowpF1zM"
      },
      "outputs": [],
      "source": [
        "def generator_simple():\n",
        "  yield 1\n",
        "  yield 2\n",
        "  yield 3"
      ]
    },
    {
      "cell_type": "code",
      "execution_count": null,
      "metadata": {
        "colab": {
          "base_uri": "https://localhost:8080/"
        },
        "id": "YM8CSN70sOIg",
        "outputId": "0eb7304e-73ee-44f9-9a32-df72bee48990"
      },
      "outputs": [
        {
          "name": "stdout",
          "output_type": "stream",
          "text": [
            "<class 'generator'>\n",
            "<generator object generator_simple at 0x7fbfe6f1f300>\n"
          ]
        }
      ],
      "source": [
        "valor = generator_simple()\n",
        "print(type(valor))\n",
        "print(valor)"
      ]
    },
    {
      "cell_type": "code",
      "execution_count": null,
      "metadata": {
        "colab": {
          "base_uri": "https://localhost:8080/"
        },
        "id": "wfiRtKSQsOF6",
        "outputId": "f5b53d47-8a84-452c-cfec-be459339621f"
      },
      "outputs": [
        {
          "name": "stdout",
          "output_type": "stream",
          "text": [
            "1\n"
          ]
        }
      ],
      "source": [
        "print(next(valor))"
      ]
    },
    {
      "cell_type": "code",
      "execution_count": null,
      "metadata": {
        "colab": {
          "base_uri": "https://localhost:8080/"
        },
        "id": "Yu0UM4a_sODs",
        "outputId": "b2eb3b33-997a-4726-86e6-28d9d866ed04"
      },
      "outputs": [
        {
          "name": "stdout",
          "output_type": "stream",
          "text": [
            "2\n"
          ]
        }
      ],
      "source": [
        "print(next(valor))"
      ]
    },
    {
      "cell_type": "code",
      "execution_count": null,
      "metadata": {
        "colab": {
          "base_uri": "https://localhost:8080/"
        },
        "id": "oN8BIy1SsOBL",
        "outputId": "a7cf0307-5868-4cb6-b03e-04010d4847b1"
      },
      "outputs": [
        {
          "name": "stdout",
          "output_type": "stream",
          "text": [
            "3\n"
          ]
        }
      ],
      "source": [
        "print(next(valor))"
      ]
    },
    {
      "cell_type": "code",
      "execution_count": null,
      "metadata": {
        "colab": {
          "base_uri": "https://localhost:8080/",
          "height": 211
        },
        "id": "V4_QHutisN-f",
        "outputId": "dc694348-f14a-4450-cc42-9061f55d9184"
      },
      "outputs": [
        {
          "ename": "StopIteration",
          "evalue": "ignored",
          "output_type": "error",
          "traceback": [
            "\u001b[0;31m---------------------------------------------------------------------------\u001b[0m",
            "\u001b[0;31mStopIteration\u001b[0m                             Traceback (most recent call last)",
            "\u001b[0;32m<ipython-input-27-d29f9e07fe87>\u001b[0m in \u001b[0;36m<cell line: 3>\u001b[0;34m()\u001b[0m\n\u001b[1;32m      1\u001b[0m \u001b[0;31m# Problema de los generators | que cuando terminan generar errores\u001b[0m\u001b[0;34m\u001b[0m\u001b[0;34m\u001b[0m\u001b[0m\n\u001b[1;32m      2\u001b[0m \u001b[0;31m# Lo resolveremos en nivel 3\u001b[0m\u001b[0;34m\u001b[0m\u001b[0;34m\u001b[0m\u001b[0m\n\u001b[0;32m----> 3\u001b[0;31m \u001b[0mprint\u001b[0m\u001b[0;34m(\u001b[0m\u001b[0mnext\u001b[0m\u001b[0;34m(\u001b[0m\u001b[0mvalor\u001b[0m\u001b[0;34m)\u001b[0m\u001b[0;34m)\u001b[0m\u001b[0;34m\u001b[0m\u001b[0;34m\u001b[0m\u001b[0m\n\u001b[0m",
            "\u001b[0;31mStopIteration\u001b[0m: "
          ]
        }
      ],
      "source": [
        "# Problema de los generators | que cuando terminan generar errores\n",
        "# Lo resolveremos en nivel 3\n",
        "print(next(valor))"
      ]
    },
    {
      "cell_type": "markdown",
      "metadata": {
        "id": "hRn3WWyqIIHJ"
      },
      "source": [
        "### **YIELD FOR**"
      ]
    },
    {
      "cell_type": "code",
      "execution_count": null,
      "metadata": {
        "colab": {
          "base_uri": "https://localhost:8080/"
        },
        "id": "ucHpl3eAsN8K",
        "outputId": "55d9bca9-066e-43b3-f47b-25aa65438d1c"
      },
      "outputs": [
        {
          "name": "stdout",
          "output_type": "stream",
          "text": [
            "[1, 2, 3, 4, 5, 6, 7, 8, 9, 10, 11, 12, 13, 14, 15, 16, 17, 18, 19, 20, 21, 22, 23, 24, 25, 26, 27, 28, 29, 30, 31, 32, 33, 34, 35, 36, 37, 38, 39, 40, 41, 42, 43, 44, 45, 46, 47, 48, 49, 50, 51, 52, 53, 54, 55, 56, 57, 58, 59, 60, 61, 62, 63, 64, 65, 66, 67, 68, 69, 70, 71, 72, 73, 74, 75, 76, 77, 78, 79, 80, 81, 82, 83, 84, 85, 86, 87, 88, 89, 90, 91, 92, 93, 94, 95, 96, 97, 98, 99]\n"
          ]
        }
      ],
      "source": [
        "elementos = list(range(1,100))\n",
        "print(elementos)"
      ]
    },
    {
      "cell_type": "code",
      "execution_count": null,
      "metadata": {
        "colab": {
          "base_uri": "https://localhost:8080/"
        },
        "id": "colL42S9tCaU",
        "outputId": "720fc56f-ec7c-4714-d54e-c2572a9182a2"
      },
      "outputs": [
        {
          "name": "stdout",
          "output_type": "stream",
          "text": [
            "type :  <class 'int'>\n",
            "valor :  1\n",
            "type :  <class 'int'>\n",
            "valor :  2\n",
            "type :  <class 'int'>\n",
            "valor :  3\n",
            "type :  <class 'int'>\n",
            "valor :  4\n",
            "type :  <class 'int'>\n",
            "valor :  5\n",
            "type :  <class 'int'>\n",
            "valor :  6\n",
            "type :  <class 'int'>\n",
            "valor :  7\n",
            "type :  <class 'int'>\n",
            "valor :  8\n",
            "type :  <class 'int'>\n",
            "valor :  9\n",
            "type :  <class 'int'>\n",
            "valor :  10\n",
            "type :  <class 'int'>\n",
            "valor :  11\n",
            "type :  <class 'int'>\n",
            "valor :  12\n",
            "type :  <class 'int'>\n",
            "valor :  13\n",
            "type :  <class 'int'>\n",
            "valor :  14\n",
            "type :  <class 'int'>\n",
            "valor :  15\n",
            "type :  <class 'int'>\n",
            "valor :  16\n",
            "type :  <class 'int'>\n",
            "valor :  17\n",
            "type :  <class 'int'>\n",
            "valor :  18\n",
            "type :  <class 'int'>\n",
            "valor :  19\n",
            "type :  <class 'int'>\n",
            "valor :  20\n",
            "type :  <class 'int'>\n",
            "valor :  21\n",
            "type :  <class 'int'>\n",
            "valor :  22\n",
            "type :  <class 'int'>\n",
            "valor :  23\n",
            "type :  <class 'int'>\n",
            "valor :  24\n",
            "type :  <class 'int'>\n",
            "valor :  25\n",
            "type :  <class 'int'>\n",
            "valor :  26\n",
            "type :  <class 'int'>\n",
            "valor :  27\n",
            "type :  <class 'int'>\n",
            "valor :  28\n",
            "type :  <class 'int'>\n",
            "valor :  29\n",
            "type :  <class 'int'>\n",
            "valor :  30\n",
            "type :  <class 'int'>\n",
            "valor :  31\n",
            "type :  <class 'int'>\n",
            "valor :  32\n",
            "type :  <class 'int'>\n",
            "valor :  33\n",
            "type :  <class 'int'>\n",
            "valor :  34\n",
            "type :  <class 'int'>\n",
            "valor :  35\n",
            "type :  <class 'int'>\n",
            "valor :  36\n",
            "type :  <class 'int'>\n",
            "valor :  37\n",
            "type :  <class 'int'>\n",
            "valor :  38\n",
            "type :  <class 'int'>\n",
            "valor :  39\n",
            "type :  <class 'int'>\n",
            "valor :  40\n",
            "type :  <class 'int'>\n",
            "valor :  41\n",
            "type :  <class 'int'>\n",
            "valor :  42\n",
            "type :  <class 'int'>\n",
            "valor :  43\n",
            "type :  <class 'int'>\n",
            "valor :  44\n",
            "type :  <class 'int'>\n",
            "valor :  45\n",
            "type :  <class 'int'>\n",
            "valor :  46\n",
            "type :  <class 'int'>\n",
            "valor :  47\n",
            "type :  <class 'int'>\n",
            "valor :  48\n",
            "type :  <class 'int'>\n",
            "valor :  49\n",
            "type :  <class 'int'>\n",
            "valor :  50\n",
            "type :  <class 'int'>\n",
            "valor :  51\n",
            "type :  <class 'int'>\n",
            "valor :  52\n",
            "type :  <class 'int'>\n",
            "valor :  53\n",
            "type :  <class 'int'>\n",
            "valor :  54\n",
            "type :  <class 'int'>\n",
            "valor :  55\n",
            "type :  <class 'int'>\n",
            "valor :  56\n",
            "type :  <class 'int'>\n",
            "valor :  57\n",
            "type :  <class 'int'>\n",
            "valor :  58\n",
            "type :  <class 'int'>\n",
            "valor :  59\n",
            "type :  <class 'int'>\n",
            "valor :  60\n",
            "type :  <class 'int'>\n",
            "valor :  61\n",
            "type :  <class 'int'>\n",
            "valor :  62\n",
            "type :  <class 'int'>\n",
            "valor :  63\n",
            "type :  <class 'int'>\n",
            "valor :  64\n",
            "type :  <class 'int'>\n",
            "valor :  65\n",
            "type :  <class 'int'>\n",
            "valor :  66\n",
            "type :  <class 'int'>\n",
            "valor :  67\n",
            "type :  <class 'int'>\n",
            "valor :  68\n",
            "type :  <class 'int'>\n",
            "valor :  69\n",
            "type :  <class 'int'>\n",
            "valor :  70\n",
            "type :  <class 'int'>\n",
            "valor :  71\n",
            "type :  <class 'int'>\n",
            "valor :  72\n",
            "type :  <class 'int'>\n",
            "valor :  73\n",
            "type :  <class 'int'>\n",
            "valor :  74\n",
            "type :  <class 'int'>\n",
            "valor :  75\n",
            "type :  <class 'int'>\n",
            "valor :  76\n",
            "type :  <class 'int'>\n",
            "valor :  77\n",
            "type :  <class 'int'>\n",
            "valor :  78\n",
            "type :  <class 'int'>\n",
            "valor :  79\n",
            "type :  <class 'int'>\n",
            "valor :  80\n",
            "type :  <class 'int'>\n",
            "valor :  81\n",
            "type :  <class 'int'>\n",
            "valor :  82\n",
            "type :  <class 'int'>\n",
            "valor :  83\n",
            "type :  <class 'int'>\n",
            "valor :  84\n",
            "type :  <class 'int'>\n",
            "valor :  85\n",
            "type :  <class 'int'>\n",
            "valor :  86\n",
            "type :  <class 'int'>\n",
            "valor :  87\n",
            "type :  <class 'int'>\n",
            "valor :  88\n",
            "type :  <class 'int'>\n",
            "valor :  89\n",
            "type :  <class 'int'>\n",
            "valor :  90\n",
            "type :  <class 'int'>\n",
            "valor :  91\n",
            "type :  <class 'int'>\n",
            "valor :  92\n",
            "type :  <class 'int'>\n",
            "valor :  93\n",
            "type :  <class 'int'>\n",
            "valor :  94\n",
            "type :  <class 'int'>\n",
            "valor :  95\n",
            "type :  <class 'int'>\n",
            "valor :  96\n",
            "type :  <class 'int'>\n",
            "valor :  97\n",
            "type :  <class 'int'>\n",
            "valor :  98\n",
            "type :  <class 'int'>\n",
            "valor :  99\n"
          ]
        }
      ],
      "source": [
        "def ejecutar(elementos):\n",
        "  for elemento in elementos:\n",
        "    yield elemento\n",
        "\n",
        "for resultado in ejecutar(elementos):\n",
        "  print(\"type : \", type(resultado))\n",
        "  print(\"valor : \", resultado)\n"
      ]
    },
    {
      "cell_type": "markdown",
      "metadata": {
        "id": "8LQ2Tok4a-vI"
      },
      "source": [
        "## **FUNCIONES DE ORDEN SUPERIOR**\n",
        "\n",
        "Las funciones de orden superior, también conocidas como \"higher-order functions\",, son funciones que tienen la capacidad de tomar otras funciones como argumentos, devolver una función como resultado o ambas cosas. En esencia, son funciones que operan sobre otras funciones, permitiendo una mayor flexibilidad y poder en la programación.\n"
      ]
    },
    {
      "cell_type": "code",
      "execution_count": null,
      "metadata": {
        "id": "fNSUayiWd3rg"
      },
      "outputs": [],
      "source": [
        "# forma uno\n",
        "from typing import List\n",
        "\n",
        "lista_correos: List[str] = [\n",
        "    \"MeQuierOmorir@gmail.com\",\n",
        "    \"PaoPao.ParaElena@gmail.com\",\n",
        "    \"cristian.mOntys34Gmail.com\"\n",
        "]\n",
        "\n",
        "correos_minuscula: List[str] = []\n",
        "\n",
        "for correo in lista_correos:\n",
        "    correo_minuscula = correo.lower()\n",
        "    correos_minuscula.append(correo_minuscula)\n",
        "\n",
        "print(correos_minuscula)"
      ]
    },
    {
      "cell_type": "code",
      "execution_count": null,
      "metadata": {
        "id": "MhgX8lTzeY0T"
      },
      "outputs": [],
      "source": [
        "# forma dos\n",
        "def estandarizar(email):\n",
        "  return email.lower()\n",
        "\n",
        "correos_minuscula: List[str] = []\n",
        "\n",
        "for correo in lista_correos:\n",
        "    correo_minuscula = estandarizar(correo)\n",
        "    correos_minuscula.append(correo_minuscula)\n",
        "\n",
        "print(correos_minuscula)"
      ]
    },
    {
      "cell_type": "markdown",
      "metadata": {
        "id": "-NnNBBSjb3qn"
      },
      "source": [
        "### **MAP**\n",
        "\n",
        "Aplica una función a cada elemento de un iterable. Mistra cantidad de elementos al entrar y salir"
      ]
    },
    {
      "cell_type": "code",
      "execution_count": null,
      "metadata": {
        "colab": {
          "base_uri": "https://localhost:8080/"
        },
        "id": "ckmtUhZFa-a3",
        "outputId": "9a57f3c3-c2c8-43e6-f537-aa575f0f0084"
      },
      "outputs": [
        {
          "name": "stdout",
          "output_type": "stream",
          "text": [
            "[NIVEL1] lista con función declarada --> [1, 4, 9, 16, 25, 36, 49, 64, 81, 100]\n",
            "[NIVEL2] lista con función anónima   --> [1, 4, 9, 16, 25, 36, 49, 64, 81, 100]\n",
            "[NIVEL3] lista con función anónima   --> ['mequieromorir@gmail.com', 'paopao.paraelena@gmail.com', 'cristian.montys34gmail.com']\n"
          ]
        }
      ],
      "source": [
        "\n",
        "from typing import List\n",
        "\n",
        "lista_numeros: List[int] = [1,2,3,4,5,6,7,8,9,10]\n",
        "lista_correos: List[str] = [\n",
        "    \"MeQuierOmorir@gmail.com\",\n",
        "    \"PaoPao.ParaElena@gmail.com\",\n",
        "    \"cristian.mOntys34Gmail.com\"\n",
        "]\n",
        "\n",
        "# [NIVEL1] forma declarada\n",
        "def al_cuadrado(numero: int) -> int:\n",
        "    return numero ** 2\n",
        "\n",
        "nueva_lista = list(map(al_cuadrado, lista_numeros))\n",
        "# nueva_lista el tipo de dato es mapobject, castear a lista para tener\n",
        "# un dato conocido\n",
        "\n",
        "# [NIVEL2] forma anónima\n",
        "nueva_anonima = list(map(lambda x: x ** 2, lista_numeros))\n",
        "\n",
        "# [NIVEL3] forma anónima\n",
        "# nuevos_emails = list(map(lambda x: x.lower(), lista_numeros))\n",
        "nuevos_emails = list(map(str.lower, lista_correos))\n",
        "\n",
        "\n",
        "print(f\"[NIVEL1] lista con función declarada --> {nueva_lista}\")\n",
        "print(f\"[NIVEL2] lista con función anónima   --> {nueva_anonima}\")\n",
        "print(f\"[NIVEL3] lista con función anónima   --> {nuevos_emails}\")"
      ]
    },
    {
      "cell_type": "markdown",
      "metadata": {
        "id": "aRlrnZhQcCdC"
      },
      "source": [
        "### **FILTER**\n",
        "\n",
        "Retorna los elementos que cumplen una condición (función). Lógica booleana"
      ]
    },
    {
      "cell_type": "code",
      "execution_count": null,
      "metadata": {
        "colab": {
          "base_uri": "https://localhost:8080/"
        },
        "id": "d1MTpYmqciKY",
        "outputId": "a7ee3466-6406-4446-b1bf-3cbecc36c071"
      },
      "outputs": [
        {
          "name": "stdout",
          "output_type": "stream",
          "text": [
            "[NIVEL1] lista con funcion declarada --> [2, 4, 6, 8, 10]\n",
            "[NIVEL2] lista con funcion anónima   --> [2, 4, 6, 8, 10]\n"
          ]
        }
      ],
      "source": [
        "\n",
        "from typing import List\n",
        "\n",
        "lista_numeros: List[int] = [1,2,3,4,5,6,7,8,9,10]\n",
        "\n",
        "# [NIVEL1] forma declarada\n",
        "def pares(numero: int) -> int:\n",
        "    return numero % 2 == 0\n",
        "\n",
        "nueva_lista = list(filter(pares, lista_numeros))\n",
        "# nueva_lista el tipo de dato es mapobject, castear a lista para tener\n",
        "# un dato conocido\n",
        "\n",
        "# [NIVEL2] forma anónima\n",
        "nueva_anonima = list(filter(lambda x: x % 2 == 0, lista_numeros))\n",
        "\n",
        "\n",
        "print(f\"[NIVEL1] lista con funcion declarada --> {nueva_lista}\")\n",
        "print(f\"[NIVEL2] lista con funcion anónima   --> {nueva_anonima}\")"
      ]
    },
    {
      "cell_type": "markdown",
      "metadata": {
        "id": "idjwedsfiWP-"
      },
      "source": [
        "### **REDUCE**\n",
        "\n",
        "Aplica una función acumulativa a los elementos de un iterable."
      ]
    },
    {
      "cell_type": "markdown",
      "metadata": {
        "id": "_3m-t5ytioef"
      },
      "source": [
        "#### **ELEMENTAL**\n",
        "\n",
        "\n",
        "\n",
        "```\n",
        "numeros = [1, 2, 3, 4, 5]\n",
        "\n",
        "Paso 1:  1 + 2 = 3\n",
        "                ↓\n",
        "Paso 2:      3 + 3 = 6\n",
        "                    ↓\n",
        "Paso 3:          6 + 4 = 10\n",
        "                          ↓\n",
        "Paso 4:              10 + 5 = 15\n",
        "\n",
        "Resultado final: 15\n",
        "\n",
        "\n",
        "\n",
        "```\n",
        "\n"
      ]
    },
    {
      "cell_type": "code",
      "execution_count": null,
      "metadata": {
        "colab": {
          "base_uri": "https://localhost:8080/"
        },
        "id": "37gMHur8ittF",
        "outputId": "a521607f-ca62-45d5-ac9f-82246857f0e8"
      },
      "outputs": [
        {
          "name": "stdout",
          "output_type": "stream",
          "text": [
            "15\n"
          ]
        }
      ],
      "source": [
        "from functools import reduce\n",
        "\n",
        "numeros: List[int] = [1, 2, 3, 4, 5]\n",
        "\n",
        "suma_total = reduce(lambda x, y: x + y, numeros)\n",
        "print(suma_total)"
      ]
    },
    {
      "cell_type": "markdown",
      "metadata": {
        "id": "-lHJB1F3isDW"
      },
      "source": [
        "#### **REAL**"
      ]
    },
    {
      "cell_type": "code",
      "execution_count": null,
      "metadata": {
        "colab": {
          "base_uri": "https://localhost:8080/"
        },
        "id": "8gaSe2I7iuIu",
        "outputId": "bc51f7de-a5ab-42ec-a4b8-f958afc34113"
      },
      "outputs": [
        {
          "name": "stdout",
          "output_type": "stream",
          "text": [
            "{\n",
            "    \"este\": 7,\n",
            "    \"es\": 8,\n",
            "    \"un\": 8,\n",
            "    \"mensaje\": 8,\n",
            "    \"de\": 7,\n",
            "    \"prueba\": 22,\n",
            "    \"con\": 8,\n",
            "    \"algunas\": 7,\n",
            "    \"palabras\": 22,\n",
            "    \"en\": 14,\n",
            "    \"mayusculas\": 7,\n",
            "    \"y\": 7,\n",
            "    \"otras\": 7,\n",
            "    \"minusculas\": 7,\n",
            "    \"el\": 1,\n",
            "    \"objetivo\": 1,\n",
            "    \"generar\": 1,\n",
            "    \"lo\": 1,\n",
            "    \"suficientemente\": 1,\n",
            "    \"largo\": 1,\n",
            "    \"al\": 1,\n",
            "    \"menos\": 1,\n",
            "    \"100\": 1,\n",
            "    \"repetir\": 14,\n",
            "    \"como\": 14\n",
            "}\n"
          ]
        }
      ],
      "source": [
        "from functools import reduce\n",
        "import json\n",
        "\n",
        "\n",
        "mensaje: str = \"\"\"\n",
        "Este es un mensaje de PRueBA con algunas PALABRAS en MAYÚSCULAS y\n",
        "otras en minúsculas. El objetivo es generar un mensaje lo suficientemente\n",
        "largo con al menos 100 palabras. Repetir palabras como prueba. Repetir\n",
        "palabras como PRUEBA. Este es un mensaje de prueba con algunas PALABRAS en\n",
        "MAYÚSCULAS y otras en minúsculas. Repetir palabras como prueba. Repetir\n",
        "palabras como PRueBA. Este es un mensaje de prueba con algunas PALABRAS en\n",
        "MAYÚSCULAS y otras en minúsculas. Repetir palabras como prueba. Repetir\n",
        "palabras como PRUEBA. Este es un mensaje de prueba con algunas PALABRAS en\n",
        "MAYÚSCULAS y otras en minúsculas. Repetir palabras como prueba. Repetir\n",
        "palabras como PRUEBA. prueba Este es un mensaje de prueba con algunas PALABRAS\n",
        "en MAYÚSCULAS y otras en minúsculas. Repetir palabras como prueba. Repetir\n",
        "palabras como PRUEBA. Este es un mensaje de prueba con algunas PALABRAS en\n",
        "MAYÚSCULAS y otras en minúsculas. Repetir palabras como prueba. Repetir\n",
        "palabras como PRUEBA. Este es un mensaje de prueba con algunas PALABRAS\n",
        "en MAYÚSCULAS y otras en minúsculas. Repetir palabras como Prueba.\n",
        "Repetir palabras como PRUEBa.\n",
        "\"\"\"\n",
        "\n",
        "# PASO 1: definir función (en este caso es declarada)\n",
        "def contador_palabras(acumulador: dict, palabra: str) -> dict:\n",
        "    acumulador[palabra] = acumulador.get(palabra, 0) +1\n",
        "    return acumulador\n",
        "\n",
        "\n",
        "# PASO 2: estandarizar\n",
        "mensaje = mensaje.lower().replace(\"ú\", \"u\").replace(\".\", \"\")\n",
        "\n",
        "# PASO 3: partir/dividir las palabras | manejar palabras separadas en una lista\n",
        "lista_palabras = mensaje.split()\n",
        "\n",
        "# PASO 4: contador de palabras\n",
        "documento: dict = reduce(contador_palabras, lista_palabras, {})\n",
        "\n",
        "\n",
        "print(json.dumps(documento, indent=4))"
      ]
    },
    {
      "cell_type": "markdown",
      "metadata": {
        "id": "iAypehj_j_8C"
      },
      "source": [
        "#### **REAL OPTIMIZADO**"
      ]
    },
    {
      "cell_type": "code",
      "execution_count": null,
      "metadata": {
        "colab": {
          "base_uri": "https://localhost:8080/"
        },
        "id": "mbqO4NOpj-Nl",
        "outputId": "870c7a91-6424-4e38-c552-21c534557b32"
      },
      "outputs": [
        {
          "name": "stdout",
          "output_type": "stream",
          "text": [
            "{\n",
            "    \"este\": 7,\n",
            "    \"es\": 8,\n",
            "    \"un\": 8,\n",
            "    \"mensaje\": 8,\n",
            "    \"de\": 7,\n",
            "    \"prueba\": 22,\n",
            "    \"con\": 8,\n",
            "    \"algunas\": 7,\n",
            "    \"palabras\": 22,\n",
            "    \"en\": 14,\n",
            "    \"mayusculas\": 7,\n",
            "    \"y\": 7,\n",
            "    \"otras\": 7,\n",
            "    \"minusculas\": 7,\n",
            "    \"el\": 1,\n",
            "    \"objetivo\": 1,\n",
            "    \"generar\": 1,\n",
            "    \"lo\": 1,\n",
            "    \"suficientemente\": 1,\n",
            "    \"largo\": 1,\n",
            "    \"al\": 1,\n",
            "    \"menos\": 1,\n",
            "    \"100\": 1,\n",
            "    \"repetir\": 14,\n",
            "    \"como\": 14\n",
            "}\n"
          ]
        }
      ],
      "source": [
        "from functools import reduce\n",
        "import json\n",
        "\n",
        "\n",
        "mensaje: str = \"\"\"\n",
        "Este es un mensaje de PRueBA con algunas PALABRAS en MAYÚSCULAS y\n",
        "otras en minúsculas. El objetivo es generar un mensaje lo suficientemente\n",
        "largo con al menos 100 palabras. Repetir palabras como prueba. Repetir\n",
        "palabras como PRUEBA. Este es un mensaje de prueba con algunas PALABRAS en\n",
        "MAYÚSCULAS y otras en minúsculas. Repetir palabras como prueba. Repetir\n",
        "palabras como PRueBA. Este es un mensaje de prueba con algunas PALABRAS en\n",
        "MAYÚSCULAS y otras en minúsculas. Repetir palabras como prueba. Repetir\n",
        "palabras como PRUEBA. Este es un mensaje de prueba con algunas PALABRAS en\n",
        "MAYÚSCULAS y otras en minúsculas. Repetir palabras como prueba. Repetir\n",
        "palabras como PRUEBA. prueba Este es un mensaje de prueba con algunas PALABRAS\n",
        "en MAYÚSCULAS y otras en minúsculas. Repetir palabras como prueba. Repetir\n",
        "palabras como PRUEBA. Este es un mensaje de prueba con algunas PALABRAS en\n",
        "MAYÚSCULAS y otras en minúsculas. Repetir palabras como prueba. Repetir\n",
        "palabras como PRUEBA. Este es un mensaje de prueba con algunas PALABRAS\n",
        "en MAYÚSCULAS y otras en minúsculas. Repetir palabras como Prueba.\n",
        "Repetir palabras como PRUEBa.\n",
        "\"\"\".lower().replace(\"ú\", \"u\").replace(\".\", \"\").split()\n",
        "\n",
        "# PASO 1: definir función (en este caso es declarada)\n",
        "def contador_palabras(acumulador: dict, palabra: str) -> dict:\n",
        "    acumulador[palabra] = acumulador.get(palabra, 0) +1\n",
        "    return acumulador\n",
        "\n",
        "# PASO 2: contador de palabras\n",
        "documento: dict = reduce(contador_palabras, lista_palabras, {})\n",
        "\n",
        "\n",
        "print(json.dumps(documento, indent=4))"
      ]
    }
  ],
  "metadata": {
    "colab": {
      "provenance": [],
      "toc_visible": true
    },
    "kernelspec": {
      "display_name": ".venv",
      "language": "python",
      "name": "python3"
    },
    "language_info": {
      "codemirror_mode": {
        "name": "ipython",
        "version": 3
      },
      "file_extension": ".py",
      "mimetype": "text/x-python",
      "name": "python",
      "nbconvert_exporter": "python",
      "pygments_lexer": "ipython3",
      "version": "3.12.3"
    }
  },
  "nbformat": 4,
  "nbformat_minor": 0
}
